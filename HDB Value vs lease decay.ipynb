{
 "cells": [
  {
   "cell_type": "markdown",
   "metadata": {},
   "source": [
    "# How do we ensure that older HDB flats remain important value enhancement assets for Singaporeans?"
   ]
  },
  {
   "cell_type": "code",
   "execution_count": 118,
   "metadata": {},
   "outputs": [],
   "source": [
    "# Let take a look at the dataset that contains information of resale flats from 2017 onwards\n",
    "\n",
    "import pandas as pd\n",
    "\n",
    "# Load dataset\n",
    "\n",
    "df = pd.read_csv('resale-flat-prices-based-on-registration-date-from-jan-2017-onwards.csv')"
   ]
  },
  {
   "cell_type": "code",
   "execution_count": 119,
   "metadata": {},
   "outputs": [
    {
     "data": {
      "text/html": [
       "<div>\n",
       "<style scoped>\n",
       "    .dataframe tbody tr th:only-of-type {\n",
       "        vertical-align: middle;\n",
       "    }\n",
       "\n",
       "    .dataframe tbody tr th {\n",
       "        vertical-align: top;\n",
       "    }\n",
       "\n",
       "    .dataframe thead th {\n",
       "        text-align: right;\n",
       "    }\n",
       "</style>\n",
       "<table border=\"1\" class=\"dataframe\">\n",
       "  <thead>\n",
       "    <tr style=\"text-align: right;\">\n",
       "      <th></th>\n",
       "      <th>month</th>\n",
       "      <th>town</th>\n",
       "      <th>flat_type</th>\n",
       "      <th>block</th>\n",
       "      <th>street_name</th>\n",
       "      <th>storey_range</th>\n",
       "      <th>floor_area_sqm</th>\n",
       "      <th>flat_model</th>\n",
       "      <th>lease_commence_date</th>\n",
       "      <th>remaining_lease</th>\n",
       "      <th>resale_price</th>\n",
       "    </tr>\n",
       "  </thead>\n",
       "  <tbody>\n",
       "    <tr>\n",
       "      <td>0</td>\n",
       "      <td>2017-01</td>\n",
       "      <td>ANG MO KIO</td>\n",
       "      <td>2 ROOM</td>\n",
       "      <td>406</td>\n",
       "      <td>ANG MO KIO AVE 10</td>\n",
       "      <td>10 TO 12</td>\n",
       "      <td>44.0</td>\n",
       "      <td>Improved</td>\n",
       "      <td>1979</td>\n",
       "      <td>61 years 04 months</td>\n",
       "      <td>232000.0</td>\n",
       "    </tr>\n",
       "    <tr>\n",
       "      <td>1</td>\n",
       "      <td>2017-01</td>\n",
       "      <td>ANG MO KIO</td>\n",
       "      <td>3 ROOM</td>\n",
       "      <td>108</td>\n",
       "      <td>ANG MO KIO AVE 4</td>\n",
       "      <td>01 TO 03</td>\n",
       "      <td>67.0</td>\n",
       "      <td>New Generation</td>\n",
       "      <td>1978</td>\n",
       "      <td>60 years 07 months</td>\n",
       "      <td>250000.0</td>\n",
       "    </tr>\n",
       "    <tr>\n",
       "      <td>2</td>\n",
       "      <td>2017-01</td>\n",
       "      <td>ANG MO KIO</td>\n",
       "      <td>3 ROOM</td>\n",
       "      <td>602</td>\n",
       "      <td>ANG MO KIO AVE 5</td>\n",
       "      <td>01 TO 03</td>\n",
       "      <td>67.0</td>\n",
       "      <td>New Generation</td>\n",
       "      <td>1980</td>\n",
       "      <td>62 years 05 months</td>\n",
       "      <td>262000.0</td>\n",
       "    </tr>\n",
       "    <tr>\n",
       "      <td>3</td>\n",
       "      <td>2017-01</td>\n",
       "      <td>ANG MO KIO</td>\n",
       "      <td>3 ROOM</td>\n",
       "      <td>465</td>\n",
       "      <td>ANG MO KIO AVE 10</td>\n",
       "      <td>04 TO 06</td>\n",
       "      <td>68.0</td>\n",
       "      <td>New Generation</td>\n",
       "      <td>1980</td>\n",
       "      <td>62 years 01 month</td>\n",
       "      <td>265000.0</td>\n",
       "    </tr>\n",
       "    <tr>\n",
       "      <td>4</td>\n",
       "      <td>2017-01</td>\n",
       "      <td>ANG MO KIO</td>\n",
       "      <td>3 ROOM</td>\n",
       "      <td>601</td>\n",
       "      <td>ANG MO KIO AVE 5</td>\n",
       "      <td>01 TO 03</td>\n",
       "      <td>67.0</td>\n",
       "      <td>New Generation</td>\n",
       "      <td>1980</td>\n",
       "      <td>62 years 05 months</td>\n",
       "      <td>265000.0</td>\n",
       "    </tr>\n",
       "    <tr>\n",
       "      <td>...</td>\n",
       "      <td>...</td>\n",
       "      <td>...</td>\n",
       "      <td>...</td>\n",
       "      <td>...</td>\n",
       "      <td>...</td>\n",
       "      <td>...</td>\n",
       "      <td>...</td>\n",
       "      <td>...</td>\n",
       "      <td>...</td>\n",
       "      <td>...</td>\n",
       "      <td>...</td>\n",
       "    </tr>\n",
       "    <tr>\n",
       "      <td>94706</td>\n",
       "      <td>2021-03</td>\n",
       "      <td>YISHUN</td>\n",
       "      <td>EXECUTIVE</td>\n",
       "      <td>360</td>\n",
       "      <td>YISHUN RING RD</td>\n",
       "      <td>04 TO 06</td>\n",
       "      <td>142.0</td>\n",
       "      <td>Apartment</td>\n",
       "      <td>1988</td>\n",
       "      <td>66 years 04 months</td>\n",
       "      <td>600000.0</td>\n",
       "    </tr>\n",
       "    <tr>\n",
       "      <td>94707</td>\n",
       "      <td>2021-03</td>\n",
       "      <td>YISHUN</td>\n",
       "      <td>EXECUTIVE</td>\n",
       "      <td>277</td>\n",
       "      <td>YISHUN ST 22</td>\n",
       "      <td>07 TO 09</td>\n",
       "      <td>146.0</td>\n",
       "      <td>Maisonette</td>\n",
       "      <td>1985</td>\n",
       "      <td>63 years 05 months</td>\n",
       "      <td>593888.0</td>\n",
       "    </tr>\n",
       "    <tr>\n",
       "      <td>94708</td>\n",
       "      <td>2021-03</td>\n",
       "      <td>YISHUN</td>\n",
       "      <td>EXECUTIVE</td>\n",
       "      <td>724</td>\n",
       "      <td>YISHUN ST 71</td>\n",
       "      <td>04 TO 06</td>\n",
       "      <td>142.0</td>\n",
       "      <td>Apartment</td>\n",
       "      <td>1986</td>\n",
       "      <td>64 years 05 months</td>\n",
       "      <td>592000.0</td>\n",
       "    </tr>\n",
       "    <tr>\n",
       "      <td>94709</td>\n",
       "      <td>2021-03</td>\n",
       "      <td>YISHUN</td>\n",
       "      <td>EXECUTIVE</td>\n",
       "      <td>828</td>\n",
       "      <td>YISHUN ST 81</td>\n",
       "      <td>01 TO 03</td>\n",
       "      <td>146.0</td>\n",
       "      <td>Maisonette</td>\n",
       "      <td>1988</td>\n",
       "      <td>65 years 10 months</td>\n",
       "      <td>630000.0</td>\n",
       "    </tr>\n",
       "    <tr>\n",
       "      <td>94710</td>\n",
       "      <td>2021-03</td>\n",
       "      <td>YISHUN</td>\n",
       "      <td>MULTI-GENERATION</td>\n",
       "      <td>633</td>\n",
       "      <td>YISHUN ST 61</td>\n",
       "      <td>10 TO 12</td>\n",
       "      <td>171.0</td>\n",
       "      <td>Multi Generation</td>\n",
       "      <td>1987</td>\n",
       "      <td>65 years 10 months</td>\n",
       "      <td>860000.0</td>\n",
       "    </tr>\n",
       "  </tbody>\n",
       "</table>\n",
       "<p>94711 rows × 11 columns</p>\n",
       "</div>"
      ],
      "text/plain": [
       "         month        town         flat_type block        street_name  \\\n",
       "0      2017-01  ANG MO KIO            2 ROOM   406  ANG MO KIO AVE 10   \n",
       "1      2017-01  ANG MO KIO            3 ROOM   108   ANG MO KIO AVE 4   \n",
       "2      2017-01  ANG MO KIO            3 ROOM   602   ANG MO KIO AVE 5   \n",
       "3      2017-01  ANG MO KIO            3 ROOM   465  ANG MO KIO AVE 10   \n",
       "4      2017-01  ANG MO KIO            3 ROOM   601   ANG MO KIO AVE 5   \n",
       "...        ...         ...               ...   ...                ...   \n",
       "94706  2021-03      YISHUN         EXECUTIVE   360     YISHUN RING RD   \n",
       "94707  2021-03      YISHUN         EXECUTIVE   277       YISHUN ST 22   \n",
       "94708  2021-03      YISHUN         EXECUTIVE   724       YISHUN ST 71   \n",
       "94709  2021-03      YISHUN         EXECUTIVE   828       YISHUN ST 81   \n",
       "94710  2021-03      YISHUN  MULTI-GENERATION   633       YISHUN ST 61   \n",
       "\n",
       "      storey_range  floor_area_sqm        flat_model  lease_commence_date  \\\n",
       "0         10 TO 12            44.0          Improved                 1979   \n",
       "1         01 TO 03            67.0    New Generation                 1978   \n",
       "2         01 TO 03            67.0    New Generation                 1980   \n",
       "3         04 TO 06            68.0    New Generation                 1980   \n",
       "4         01 TO 03            67.0    New Generation                 1980   \n",
       "...            ...             ...               ...                  ...   \n",
       "94706     04 TO 06           142.0         Apartment                 1988   \n",
       "94707     07 TO 09           146.0        Maisonette                 1985   \n",
       "94708     04 TO 06           142.0         Apartment                 1986   \n",
       "94709     01 TO 03           146.0        Maisonette                 1988   \n",
       "94710     10 TO 12           171.0  Multi Generation                 1987   \n",
       "\n",
       "          remaining_lease  resale_price  \n",
       "0      61 years 04 months      232000.0  \n",
       "1      60 years 07 months      250000.0  \n",
       "2      62 years 05 months      262000.0  \n",
       "3       62 years 01 month      265000.0  \n",
       "4      62 years 05 months      265000.0  \n",
       "...                   ...           ...  \n",
       "94706  66 years 04 months      600000.0  \n",
       "94707  63 years 05 months      593888.0  \n",
       "94708  64 years 05 months      592000.0  \n",
       "94709  65 years 10 months      630000.0  \n",
       "94710  65 years 10 months      860000.0  \n",
       "\n",
       "[94711 rows x 11 columns]"
      ]
     },
     "execution_count": 119,
     "metadata": {},
     "output_type": "execute_result"
    }
   ],
   "source": [
    "# Find out details of the dataset\n",
    "\n",
    "df"
   ]
  },
  {
   "cell_type": "code",
   "execution_count": 120,
   "metadata": {},
   "outputs": [
    {
     "name": "stdout",
     "output_type": "stream",
     "text": [
      "<class 'pandas.core.frame.DataFrame'>\n",
      "RangeIndex: 94711 entries, 0 to 94710\n",
      "Data columns (total 11 columns):\n",
      "month                  94711 non-null object\n",
      "town                   94711 non-null object\n",
      "flat_type              94711 non-null object\n",
      "block                  94711 non-null object\n",
      "street_name            94711 non-null object\n",
      "storey_range           94711 non-null object\n",
      "floor_area_sqm         94711 non-null float64\n",
      "flat_model             94711 non-null object\n",
      "lease_commence_date    94711 non-null int64\n",
      "remaining_lease        94711 non-null object\n",
      "resale_price           94711 non-null float64\n",
      "dtypes: float64(2), int64(1), object(8)\n",
      "memory usage: 7.9+ MB\n"
     ]
    },
    {
     "data": {
      "text/html": [
       "<div>\n",
       "<style scoped>\n",
       "    .dataframe tbody tr th:only-of-type {\n",
       "        vertical-align: middle;\n",
       "    }\n",
       "\n",
       "    .dataframe tbody tr th {\n",
       "        vertical-align: top;\n",
       "    }\n",
       "\n",
       "    .dataframe thead th {\n",
       "        text-align: right;\n",
       "    }\n",
       "</style>\n",
       "<table border=\"1\" class=\"dataframe\">\n",
       "  <thead>\n",
       "    <tr style=\"text-align: right;\">\n",
       "      <th></th>\n",
       "      <th>floor_area_sqm</th>\n",
       "      <th>lease_commence_date</th>\n",
       "      <th>resale_price</th>\n",
       "    </tr>\n",
       "  </thead>\n",
       "  <tbody>\n",
       "    <tr>\n",
       "      <td>count</td>\n",
       "      <td>94711.000000</td>\n",
       "      <td>94711.000000</td>\n",
       "      <td>9.471100e+04</td>\n",
       "    </tr>\n",
       "    <tr>\n",
       "      <td>mean</td>\n",
       "      <td>97.756985</td>\n",
       "      <td>1994.524195</td>\n",
       "      <td>4.461176e+05</td>\n",
       "    </tr>\n",
       "    <tr>\n",
       "      <td>std</td>\n",
       "      <td>24.245231</td>\n",
       "      <td>13.112544</td>\n",
       "      <td>1.551782e+05</td>\n",
       "    </tr>\n",
       "    <tr>\n",
       "      <td>min</td>\n",
       "      <td>31.000000</td>\n",
       "      <td>1966.000000</td>\n",
       "      <td>1.400000e+05</td>\n",
       "    </tr>\n",
       "    <tr>\n",
       "      <td>25%</td>\n",
       "      <td>82.000000</td>\n",
       "      <td>1984.000000</td>\n",
       "      <td>3.350000e+05</td>\n",
       "    </tr>\n",
       "    <tr>\n",
       "      <td>50%</td>\n",
       "      <td>95.000000</td>\n",
       "      <td>1995.000000</td>\n",
       "      <td>4.150000e+05</td>\n",
       "    </tr>\n",
       "    <tr>\n",
       "      <td>75%</td>\n",
       "      <td>113.000000</td>\n",
       "      <td>2004.000000</td>\n",
       "      <td>5.230000e+05</td>\n",
       "    </tr>\n",
       "    <tr>\n",
       "      <td>max</td>\n",
       "      <td>249.000000</td>\n",
       "      <td>2019.000000</td>\n",
       "      <td>1.258000e+06</td>\n",
       "    </tr>\n",
       "  </tbody>\n",
       "</table>\n",
       "</div>"
      ],
      "text/plain": [
       "       floor_area_sqm  lease_commence_date  resale_price\n",
       "count    94711.000000         94711.000000  9.471100e+04\n",
       "mean        97.756985          1994.524195  4.461176e+05\n",
       "std         24.245231            13.112544  1.551782e+05\n",
       "min         31.000000          1966.000000  1.400000e+05\n",
       "25%         82.000000          1984.000000  3.350000e+05\n",
       "50%         95.000000          1995.000000  4.150000e+05\n",
       "75%        113.000000          2004.000000  5.230000e+05\n",
       "max        249.000000          2019.000000  1.258000e+06"
      ]
     },
     "execution_count": 120,
     "metadata": {},
     "output_type": "execute_result"
    }
   ],
   "source": [
    "# Find out more details of the dataset\n",
    "\n",
    "df.info()\n",
    "df.describe()"
   ]
  },
  {
   "cell_type": "markdown",
   "metadata": {},
   "source": [
    "# We can see that there are a total of 94711 flats sold in the resale market since 2017.\n",
    "\n",
    "For the simplicity of this study, we will only consider including the data of resale 4-room flats. This is because this is the type of flat that has the most demand, and therefore better represent the overall demand of resale flats in Singapore. "
   ]
  },
  {
   "cell_type": "code",
   "execution_count": 121,
   "metadata": {},
   "outputs": [
    {
     "name": "stdout",
     "output_type": "stream",
     "text": [
      "         month        town flat_type block        street_name storey_range  \\\n",
      "33     2017-01  ANG MO KIO    4 ROOM   472  ANG MO KIO AVE 10     10 TO 12   \n",
      "34     2017-01  ANG MO KIO    4 ROOM   475  ANG MO KIO AVE 10     07 TO 09   \n",
      "35     2017-01  ANG MO KIO    4 ROOM   629   ANG MO KIO AVE 4     01 TO 03   \n",
      "36     2017-01  ANG MO KIO    4 ROOM   546  ANG MO KIO AVE 10     01 TO 03   \n",
      "37     2017-01  ANG MO KIO    4 ROOM   131   ANG MO KIO AVE 3     01 TO 03   \n",
      "...        ...         ...       ...   ...                ...          ...   \n",
      "94672  2021-03      YISHUN    4 ROOM   738       YISHUN ST 72     04 TO 06   \n",
      "94673  2021-03      YISHUN    4 ROOM   749       YISHUN ST 72     04 TO 06   \n",
      "94674  2021-03      YISHUN    4 ROOM   873       YISHUN ST 81     01 TO 03   \n",
      "94675  2021-03      YISHUN    4 ROOM   866       YISHUN ST 81     01 TO 03   \n",
      "94676  2021-03      YISHUN    4 ROOM   868       YISHUN ST 81     10 TO 12   \n",
      "\n",
      "       floor_area_sqm      flat_model  lease_commence_date  \\\n",
      "33               92.0  New Generation                 1979   \n",
      "34               91.0  New Generation                 1979   \n",
      "35               94.0  New Generation                 1981   \n",
      "36               92.0  New Generation                 1981   \n",
      "37               98.0  New Generation                 1979   \n",
      "...               ...             ...                  ...   \n",
      "94672            92.0  New Generation                 1985   \n",
      "94673            91.0  New Generation                 1984   \n",
      "94674           104.0         Model A                 1988   \n",
      "94675           104.0         Model A                 1988   \n",
      "94676           104.0         Model A                 1987   \n",
      "\n",
      "          remaining_lease  resale_price  \n",
      "33     61 years 06 months      400000.0  \n",
      "34     61 years 06 months      400000.0  \n",
      "35     63 years 09 months      403000.0  \n",
      "36               63 years      410000.0  \n",
      "37      61 years 01 month      425888.0  \n",
      "...                   ...           ...  \n",
      "94672  62 years 11 months      360000.0  \n",
      "94673  62 years 03 months      440000.0  \n",
      "94674  66 years 02 months      390000.0  \n",
      "94675            66 years      403888.0  \n",
      "94676  65 years 09 months      450000.0  \n",
      "\n",
      "[39240 rows x 11 columns]\n"
     ]
    }
   ],
   "source": [
    "# Let's extract information of 4-room resale flats sold since 2017 from the dataset\n",
    "\n",
    "df2 = df[df['flat_type']=='4 ROOM']\n",
    "\n",
    "print(df2)"
   ]
  },
  {
   "cell_type": "markdown",
   "metadata": {},
   "source": [
    "# From the dataset above, we know there are a total of 39240 4-room resale flats sold from 2017 onwards"
   ]
  },
  {
   "cell_type": "code",
   "execution_count": 122,
   "metadata": {},
   "outputs": [
    {
     "name": "stdout",
     "output_type": "stream",
     "text": [
      "         month        town flat_type block        street_name storey_range  \\\n",
      "33     2017-01  ANG MO KIO    4 ROOM   472  ANG MO KIO AVE 10     10 TO 12   \n",
      "34     2017-01  ANG MO KIO    4 ROOM   475  ANG MO KIO AVE 10     07 TO 09   \n",
      "35     2017-01  ANG MO KIO    4 ROOM   629   ANG MO KIO AVE 4     01 TO 03   \n",
      "36     2017-01  ANG MO KIO    4 ROOM   546  ANG MO KIO AVE 10     01 TO 03   \n",
      "37     2017-01  ANG MO KIO    4 ROOM   131   ANG MO KIO AVE 3     01 TO 03   \n",
      "...        ...         ...       ...   ...                ...          ...   \n",
      "94672  2021-03      YISHUN    4 ROOM   738       YISHUN ST 72     04 TO 06   \n",
      "94673  2021-03      YISHUN    4 ROOM   749       YISHUN ST 72     04 TO 06   \n",
      "94674  2021-03      YISHUN    4 ROOM   873       YISHUN ST 81     01 TO 03   \n",
      "94675  2021-03      YISHUN    4 ROOM   866       YISHUN ST 81     01 TO 03   \n",
      "94676  2021-03      YISHUN    4 ROOM   868       YISHUN ST 81     10 TO 12   \n",
      "\n",
      "       floor_area_sqm      flat_model  lease_commence_date  \\\n",
      "33               92.0  New Generation                 1979   \n",
      "34               91.0  New Generation                 1979   \n",
      "35               94.0  New Generation                 1981   \n",
      "36               92.0  New Generation                 1981   \n",
      "37               98.0  New Generation                 1979   \n",
      "...               ...             ...                  ...   \n",
      "94672            92.0  New Generation                 1985   \n",
      "94673            91.0  New Generation                 1984   \n",
      "94674           104.0         Model A                 1988   \n",
      "94675           104.0         Model A                 1988   \n",
      "94676           104.0         Model A                 1987   \n",
      "\n",
      "          remaining_lease  resale_price  remaining_lease_year  \n",
      "33     61 years 06 months      400000.0                    58  \n",
      "34     61 years 06 months      400000.0                    58  \n",
      "35     63 years 09 months      403000.0                    60  \n",
      "36               63 years      410000.0                    60  \n",
      "37      61 years 01 month      425888.0                    58  \n",
      "...                   ...           ...                   ...  \n",
      "94672  62 years 11 months      360000.0                    64  \n",
      "94673  62 years 03 months      440000.0                    63  \n",
      "94674  66 years 02 months      390000.0                    67  \n",
      "94675            66 years      403888.0                    67  \n",
      "94676  65 years 09 months      450000.0                    66  \n",
      "\n",
      "[39240 rows x 12 columns]\n",
      "       remaining_lease_year  resale_price\n",
      "33                       58      400000.0\n",
      "34                       58      400000.0\n",
      "35                       60      403000.0\n",
      "36                       60      410000.0\n",
      "37                       58      425888.0\n",
      "...                     ...           ...\n",
      "94672                    64      360000.0\n",
      "94673                    63      440000.0\n",
      "94674                    67      390000.0\n",
      "94675                    67      403888.0\n",
      "94676                    66      450000.0\n",
      "\n",
      "[39240 rows x 2 columns]\n"
     ]
    },
    {
     "name": "stderr",
     "output_type": "stream",
     "text": [
      "C:\\Users\\anghe\\Anaconda3\\lib\\site-packages\\ipykernel_launcher.py:5: SettingWithCopyWarning: \n",
      "A value is trying to be set on a copy of a slice from a DataFrame.\n",
      "Try using .loc[row_indexer,col_indexer] = value instead\n",
      "\n",
      "See the caveats in the documentation: http://pandas.pydata.org/pandas-docs/stable/user_guide/indexing.html#returning-a-view-versus-a-copy\n",
      "  \"\"\"\n"
     ]
    }
   ],
   "source": [
    "# Let's find out if there is a correlation between between resale flat prices and their remaining lease\n",
    "\n",
    "# Let's create a new column for the remaining leases of the resale flats in years\n",
    "\n",
    "df2['remaining_lease_year']=99-(2020-df2['lease_commence_date'])\n",
    "\n",
    "print(df2)\n",
    "\n",
    "# We will extract the 'remaining_lease_year' and 'resale_price' columns from the dataset above to find out\n",
    "\n",
    "df3 = df2.loc[:, ['remaining_lease_year', 'resale_price']]\n",
    "\n",
    "print(df3)\n"
   ]
  },
  {
   "cell_type": "code",
   "execution_count": 123,
   "metadata": {},
   "outputs": [
    {
     "data": {
      "image/png": "[encoded data removed]",
      "text/plain": [
       "<Figure size 432x288 with 1 Axes>"
      ]
     },
     "metadata": {
      "needs_background": "light"
     },
     "output_type": "display_data"
    },
    {
     "data": {
      "image/png": "[encoded data removed]",
      "text/plain": [
       "<Figure size 432x288 with 1 Axes>"
      ]
     },
     "metadata": {
      "needs_background": "light"
     },
     "output_type": "display_data"
    }
   ],
   "source": [
    "# With the dataset above containing the 'remaining_lease' and 'resale_price' columns, let's plot a scatterplot and a regression graph to see their relationship\n",
    "\n",
    "# Scatterplot and regression plot using seaborn\n",
    "\n",
    "import numpy as np\n",
    "import matplotlib.pyplot as plt\n",
    "import seaborn as sns\n",
    "sns.regplot(x='remaining_lease_year', y='resale_price', data=df3, marker='+')\n",
    "\n",
    "ax=df3.plot.scatter(x='remaining_lease_year', y='resale_price')\n",
    "\n",
    "plt.show()"
   ]
  },
  {
   "cell_type": "markdown",
   "metadata": {},
   "source": [
    "# Based on the regression graph above, it does show an overall positive correlation between resale price and remaining lease of the 4-room flats\n",
    "\n",
    "This is indeed a worrying trend, given that many Singaporeans have high hopes of cashing out from their HDB flats for retirement when they reach old age. \n",
    "\n",
    "Hence, it is crucial for the government to study factors that can help slow the effect of lease decay, or to retain the value of the HDB flats."
   ]
  },
  {
   "cell_type": "code",
   "execution_count": 124,
   "metadata": {},
   "outputs": [
    {
     "name": "stdout",
     "output_type": "stream",
     "text": [
      "         month        town flat_type block        street_name storey_range  \\\n",
      "33     2017-01  ANG MO KIO    4 ROOM   472  ANG MO KIO AVE 10     10 TO 12   \n",
      "34     2017-01  ANG MO KIO    4 ROOM   475  ANG MO KIO AVE 10     07 TO 09   \n",
      "37     2017-01  ANG MO KIO    4 ROOM   131   ANG MO KIO AVE 3     01 TO 03   \n",
      "38     2017-01  ANG MO KIO    4 ROOM   254   ANG MO KIO AVE 4     04 TO 06   \n",
      "39     2017-01  ANG MO KIO    4 ROOM   470  ANG MO KIO AVE 10     04 TO 06   \n",
      "...        ...         ...       ...   ...                ...          ...   \n",
      "92322  2021-03  ANG MO KIO    4 ROOM   229   ANG MO KIO AVE 3     07 TO 09   \n",
      "92323  2021-03  ANG MO KIO    4 ROOM   572   ANG MO KIO AVE 3     04 TO 06   \n",
      "92324  2021-03  ANG MO KIO    4 ROOM   114   ANG MO KIO AVE 4     01 TO 03   \n",
      "92325  2021-03  ANG MO KIO    4 ROOM   254   ANG MO KIO AVE 4     10 TO 12   \n",
      "92328  2021-03  ANG MO KIO    4 ROOM   105   ANG MO KIO AVE 4     07 TO 09   \n",
      "\n",
      "       floor_area_sqm      flat_model  lease_commence_date  \\\n",
      "33               92.0  New Generation                 1979   \n",
      "34               91.0  New Generation                 1979   \n",
      "37               98.0  New Generation                 1979   \n",
      "38               97.0  New Generation                 1977   \n",
      "39               92.0  New Generation                 1979   \n",
      "...               ...             ...                  ...   \n",
      "92322            91.0  New Generation                 1978   \n",
      "92323            92.0  New Generation                 1979   \n",
      "92324            99.0  New Generation                 1978   \n",
      "92325            97.0  New Generation                 1977   \n",
      "92328            92.0  New Generation                 1978   \n",
      "\n",
      "          remaining_lease  resale_price  remaining_lease_year  \n",
      "33     61 years 06 months      400000.0                    58  \n",
      "34     61 years 06 months      400000.0                    58  \n",
      "37      61 years 01 month      425888.0                    58  \n",
      "38     59 years 06 months      430000.0                    56  \n",
      "39     61 years 10 months      435000.0                    58  \n",
      "...                   ...           ...                   ...  \n",
      "92322  55 years 10 months      436000.0                    57  \n",
      "92323  57 years 02 months      400000.0                    58  \n",
      "92324  55 years 11 months      448000.0                    57  \n",
      "92325  55 years 04 months      435000.0                    56  \n",
      "92328  56 years 02 months      438000.0                    57  \n",
      "\n",
      "[677 rows x 12 columns]\n"
     ]
    }
   ],
   "source": [
    "# Let's compare the prices of 4-room resale flats in Ang Mo Kio, Bedok and Clementi, towns which has a combination of flats which reach their \"minimum occupation period\", and those which are over 40 years old.\n",
    "\n",
    "# Select 4-room resale flats in Ang Mo Kio with 55 remaining years of lease or less\n",
    "\n",
    "df4 = df2[df2['town']=='ANG MO KIO']\n",
    "\n",
    "df5 = df4[df4['remaining_lease_year']<60]\n",
    "print(df5)\n"
   ]
  },
  {
   "cell_type": "code",
   "execution_count": 125,
   "metadata": {},
   "outputs": [
    {
     "name": "stdout",
     "output_type": "stream",
     "text": [
      "         month        town flat_type block       street_name storey_range  \\\n",
      "46     2017-01  ANG MO KIO    4 ROOM  588C  ANG MO KIO ST 52     13 TO 15   \n",
      "47     2017-01  ANG MO KIO    4 ROOM  588D  ANG MO KIO ST 52     19 TO 21   \n",
      "48     2017-01  ANG MO KIO    4 ROOM  588D  ANG MO KIO ST 52     22 TO 24   \n",
      "2342   2017-03  ANG MO KIO    4 ROOM  307C  ANG MO KIO AVE 1     16 TO 18   \n",
      "2343   2017-03  ANG MO KIO    4 ROOM  588A  ANG MO KIO ST 52     07 TO 09   \n",
      "...        ...         ...       ...   ...               ...          ...   \n",
      "90171  2021-02  ANG MO KIO    4 ROOM  588B  ANG MO KIO ST 52     22 TO 24   \n",
      "92314  2021-03  ANG MO KIO    4 ROOM  307A  ANG MO KIO AVE 1     07 TO 09   \n",
      "92315  2021-03  ANG MO KIO    4 ROOM  307B  ANG MO KIO AVE 1     04 TO 06   \n",
      "92332  2021-03  ANG MO KIO    4 ROOM  588B  ANG MO KIO ST 52     01 TO 03   \n",
      "92334  2021-03  ANG MO KIO    4 ROOM  588D  ANG MO KIO ST 52     13 TO 15   \n",
      "\n",
      "       floor_area_sqm flat_model  lease_commence_date     remaining_lease  \\\n",
      "46               90.0       DBSS                 2011  93 years 08 months   \n",
      "47               91.0       DBSS                 2011  93 years 07 months   \n",
      "48               91.0       DBSS                 2011  93 years 07 months   \n",
      "2342             88.0    Model A                 2012  94 years 06 months   \n",
      "2343             90.0       DBSS                 2011  93 years 05 months   \n",
      "...               ...        ...                  ...                 ...   \n",
      "90171            90.0       DBSS                 2011  89 years 06 months   \n",
      "92314            95.0    Model A                 2012  90 years 07 months   \n",
      "92315            88.0    Model A                 2012  90 years 06 months   \n",
      "92332            90.0       DBSS                 2011  89 years 05 months   \n",
      "92334            91.0       DBSS                 2011  89 years 05 months   \n",
      "\n",
      "       resale_price  remaining_lease_year  \n",
      "46         688000.0                    90  \n",
      "47         730000.0                    90  \n",
      "48         756000.0                    90  \n",
      "2342       630000.0                    91  \n",
      "2343       690000.0                    90  \n",
      "...             ...                   ...  \n",
      "90171      768000.0                    90  \n",
      "92314      685000.0                    91  \n",
      "92315      668888.0                    91  \n",
      "92332      660000.0                    90  \n",
      "92334      760000.0                    90  \n",
      "\n",
      "[156 rows x 12 columns]\n"
     ]
    }
   ],
   "source": [
    "# Select 4-room resale flats in Ang Mo Kio which has at least 90 years of remaining lease left\n",
    "\n",
    "df6 = df4[df4['remaining_lease_year']>=90]\n",
    "\n",
    "print(df6)"
   ]
  },
  {
   "cell_type": "code",
   "execution_count": 126,
   "metadata": {},
   "outputs": [
    {
     "name": "stdout",
     "output_type": "stream",
     "text": [
      "410000.0\n",
      "679000.0\n"
     ]
    }
   ],
   "source": [
    "# Let's compare the median prices of the resale 4-room HDB flats between these two groups in Ang Mo Kio\n",
    "\n",
    "print(df5['resale_price'].median()) # median price of 4-room resale HDB flat in Ang Mo Kio with remaining lease of less than 60\n",
    "\n",
    "print(df6['resale_price'].median()) # median price of 4-room resale HDB flat in Ang Mo Kio with remaining lease of more than 90 years\n",
    "\n"
   ]
  },
  {
   "cell_type": "code",
   "execution_count": 127,
   "metadata": {},
   "outputs": [
    {
     "name": "stdout",
     "output_type": "stream",
     "text": [
      "         month   town flat_type block         street_name storey_range  \\\n",
      "89     2017-01  BEDOK    4 ROOM    35     BEDOK STH AVE 2     13 TO 15   \n",
      "90     2017-01  BEDOK    4 ROOM    42        BEDOK STH RD     04 TO 06   \n",
      "91     2017-01  BEDOK    4 ROOM    34     BEDOK STH AVE 2     10 TO 12   \n",
      "92     2017-01  BEDOK    4 ROOM     7     BEDOK STH AVE 2     04 TO 06   \n",
      "93     2017-01  BEDOK    4 ROOM     8     BEDOK STH AVE 2     13 TO 15   \n",
      "...        ...    ...       ...   ...                 ...          ...   \n",
      "92417  2021-03  BEDOK    4 ROOM    80        BEDOK NTH RD     07 TO 09   \n",
      "92422  2021-03  BEDOK    4 ROOM   126      BEDOK NTH ST 2     07 TO 09   \n",
      "92430  2021-03  BEDOK    4 ROOM   701  BEDOK RESERVOIR RD     10 TO 12   \n",
      "92441  2021-03  BEDOK    4 ROOM    35     BEDOK STH AVE 2     13 TO 15   \n",
      "92442  2021-03  BEDOK    4 ROOM     5     BEDOK STH AVE 2     01 TO 03   \n",
      "\n",
      "       floor_area_sqm      flat_model  lease_commence_date  \\\n",
      "89               90.0        Improved                 1977   \n",
      "90               84.0        Improved                 1977   \n",
      "91               90.0        Improved                 1977   \n",
      "92               82.0        Improved                 1976   \n",
      "93               82.0        Improved                 1976   \n",
      "...               ...             ...                  ...   \n",
      "92417            91.0  New Generation                 1978   \n",
      "92422            92.0  New Generation                 1978   \n",
      "92430            93.0  New Generation                 1980   \n",
      "92441            90.0        Improved                 1977   \n",
      "92442            82.0        Improved                 1976   \n",
      "\n",
      "          remaining_lease  resale_price  remaining_lease_year  \n",
      "89     59 years 11 months      350000.0                    56  \n",
      "90     59 years 08 months      350000.0                    56  \n",
      "91     59 years 08 months      358000.0                    56  \n",
      "92               58 years      358000.0                    55  \n",
      "93               58 years      375000.0                    55  \n",
      "...                   ...           ...                   ...  \n",
      "92417  56 years 03 months      365000.0                    57  \n",
      "92422  56 years 02 months      363000.0                    57  \n",
      "92430  58 years 09 months      385000.0                    59  \n",
      "92441  55 years 06 months      343888.0                    56  \n",
      "92442  53 years 11 months      340000.0                    55  \n",
      "\n",
      "[776 rows x 12 columns]\n"
     ]
    }
   ],
   "source": [
    "# Select 4-room resale flats in Bedok with remaining lease of less than 60 years\n",
    "\n",
    "df7 = df2[df2['town']=='BEDOK']\n",
    "\n",
    "df8 = df7[df7['remaining_lease_year']<60]\n",
    "\n",
    "print(df8)"
   ]
  },
  {
   "cell_type": "code",
   "execution_count": 128,
   "metadata": {},
   "outputs": [
    {
     "name": "stdout",
     "output_type": "stream",
     "text": [
      "         month   town flat_type block           street_name storey_range  \\\n",
      "60623  2019-11  BEDOK    4 ROOM  748C  BEDOK RESERVOIR CRES     13 TO 15   \n",
      "62544  2019-12  BEDOK    4 ROOM  747B  BEDOK RESERVOIR CRES     07 TO 09   \n",
      "64397  2020-01  BEDOK    4 ROOM  748B  BEDOK RESERVOIR CRES     13 TO 15   \n",
      "64398  2020-01  BEDOK    4 ROOM  747C  BEDOK RESERVOIR CRES     10 TO 12   \n",
      "64399  2020-01  BEDOK    4 ROOM  748B  BEDOK RESERVOIR CRES     13 TO 15   \n",
      "...        ...    ...       ...   ...                   ...          ...   \n",
      "92448  2021-03  BEDOK    4 ROOM  807B          CHAI CHEE RD     07 TO 09   \n",
      "92449  2021-03  BEDOK    4 ROOM  808A          CHAI CHEE RD     13 TO 15   \n",
      "92450  2021-03  BEDOK    4 ROOM  807A          CHAI CHEE RD     10 TO 12   \n",
      "92451  2021-03  BEDOK    4 ROOM  807B          CHAI CHEE RD     04 TO 06   \n",
      "92452  2021-03  BEDOK    4 ROOM  807A          CHAI CHEE RD     01 TO 03   \n",
      "\n",
      "       floor_area_sqm flat_model  lease_commence_date     remaining_lease  \\\n",
      "60623            87.0       DBSS                 2014  93 years 10 months   \n",
      "62544            85.0       DBSS                 2014  93 years 09 months   \n",
      "64397            87.0       DBSS                 2014  93 years 08 months   \n",
      "64398            87.0       DBSS                 2014  93 years 08 months   \n",
      "64399            87.0       DBSS                 2014  93 years 08 months   \n",
      "...               ...        ...                  ...                 ...   \n",
      "92448            93.0    Model A                 2016  94 years 08 months   \n",
      "92449            93.0    Model A                 2016  94 years 09 months   \n",
      "92450            93.0    Model A                 2016  94 years 08 months   \n",
      "92451            93.0    Model A                 2016  94 years 08 months   \n",
      "92452            93.0    Model A                 2016  94 years 08 months   \n",
      "\n",
      "       resale_price  remaining_lease_year  \n",
      "60623      670000.0                    93  \n",
      "62544      675000.0                    93  \n",
      "64397      718000.0                    93  \n",
      "64398      663000.0                    93  \n",
      "64399      670000.0                    93  \n",
      "...             ...                   ...  \n",
      "92448      650000.0                    95  \n",
      "92449      620000.0                    95  \n",
      "92450      635000.0                    95  \n",
      "92451      575000.0                    95  \n",
      "92452      572000.0                    95  \n",
      "\n",
      "[94 rows x 12 columns]\n"
     ]
    }
   ],
   "source": [
    "# Select 4-room resale flats in Bedok which has at least 90 years of remaining lease left\n",
    "\n",
    "df9 = df7[df7['remaining_lease_year']>=90]\n",
    "\n",
    "print(df9)"
   ]
  },
  {
   "cell_type": "code",
   "execution_count": 129,
   "metadata": {},
   "outputs": [
    {
     "name": "stdout",
     "output_type": "stream",
     "text": [
      "380000.0\n",
      "642000.0\n"
     ]
    }
   ],
   "source": [
    "# Let's compare the median prices of the resale 4-room HDB flats between these two groups in Bedok\n",
    "\n",
    "print(df8['resale_price'].median()) # median price of 4-room resale HDB flat in Bedok with remaining lease of less than 60 years\n",
    "\n",
    "print(df9['resale_price'].median()) # median price of 4-room resale HDB flat in Bedok with remaining lease of more than 90 years\n",
    "\n"
   ]
  },
  {
   "cell_type": "code",
   "execution_count": 130,
   "metadata": {},
   "outputs": [
    {
     "name": "stdout",
     "output_type": "stream",
     "text": [
      "         month      town flat_type block         street_name storey_range  \\\n",
      "371    2017-01  CLEMENTI    4 ROOM   730  CLEMENTI WEST ST 2     01 TO 03   \n",
      "373    2017-01  CLEMENTI    4 ROOM   709  CLEMENTI WEST ST 2     04 TO 06   \n",
      "376    2017-01  CLEMENTI    4 ROOM   348      CLEMENTI AVE 5     01 TO 03   \n",
      "377    2017-01  CLEMENTI    4 ROOM   411   C'WEALTH AVE WEST     10 TO 12   \n",
      "378    2017-01  CLEMENTI    4 ROOM   324      CLEMENTI AVE 5     04 TO 06   \n",
      "...        ...       ...       ...   ...                 ...          ...   \n",
      "92981  2021-03  CLEMENTI    4 ROOM   434      CLEMENTI AVE 3     10 TO 12   \n",
      "92983  2021-03  CLEMENTI    4 ROOM   302      CLEMENTI AVE 4     01 TO 03   \n",
      "92991  2021-03  CLEMENTI    4 ROOM   607  CLEMENTI WEST ST 1     07 TO 09   \n",
      "92992  2021-03  CLEMENTI    4 ROOM   708  CLEMENTI WEST ST 2     01 TO 03   \n",
      "92995  2021-03  CLEMENTI    4 ROOM   506       WEST COAST DR     01 TO 03   \n",
      "\n",
      "       floor_area_sqm      flat_model  lease_commence_date  \\\n",
      "371              93.0  New Generation                 1980   \n",
      "373              91.0  New Generation                 1980   \n",
      "376              92.0  New Generation                 1979   \n",
      "377              97.0  New Generation                 1978   \n",
      "378              91.0  New Generation                 1978   \n",
      "...               ...             ...                  ...   \n",
      "92981            91.0  New Generation                 1978   \n",
      "92983            92.0  New Generation                 1979   \n",
      "92991            92.0  New Generation                 1979   \n",
      "92992            91.0  New Generation                 1980   \n",
      "92995            83.0  New Generation                 1978   \n",
      "\n",
      "          remaining_lease  resale_price  remaining_lease_year  \n",
      "371    62 years 07 months      385000.0                    59  \n",
      "373    62 years 06 months      425000.0                    59  \n",
      "376    61 years 02 months      488000.0                    58  \n",
      "377    60 years 02 months      548000.0                    57  \n",
      "378     60 years 01 month      552000.0                    57  \n",
      "...                   ...           ...                   ...  \n",
      "92981  56 years 09 months      520000.0                    57  \n",
      "92983            57 years      420000.0                    58  \n",
      "92991  57 years 09 months      426000.0                    58  \n",
      "92992  58 years 04 months      386888.0                    59  \n",
      "92995  56 years 06 months      360000.0                    57  \n",
      "\n",
      "[341 rows x 12 columns]\n"
     ]
    }
   ],
   "source": [
    "# Let's compare the prices of 4-room resale flats in Clementi, towns which has a combination of flats which reach their \"minimum occupation period\", and those which are over 40 years old.\n",
    "\n",
    "# Select 4-room resale flats in Clementi with remaining lease of less than 60 years\n",
    "\n",
    "df10 = df2[df2['town']=='CLEMENTI']\n",
    "\n",
    "df11 = df10[df10['remaining_lease_year']<60]\n",
    "\n",
    "print(df11)"
   ]
  },
  {
   "cell_type": "code",
   "execution_count": 131,
   "metadata": {},
   "outputs": [
    {
     "name": "stdout",
     "output_type": "stream",
     "text": [
      "         month      town flat_type block     street_name storey_range  \\\n",
      "1511   2017-02  CLEMENTI    4 ROOM   418  CLEMENTI AVE 1     04 TO 06   \n",
      "2825   2017-03  CLEMENTI    4 ROOM   421  CLEMENTI AVE 1     16 TO 18   \n",
      "2826   2017-03  CLEMENTI    4 ROOM   424  CLEMENTI AVE 1     19 TO 21   \n",
      "2827   2017-03  CLEMENTI    4 ROOM   418  CLEMENTI AVE 1     19 TO 21   \n",
      "4742   2017-04  CLEMENTI    4 ROOM   420  CLEMENTI AVE 1     04 TO 06   \n",
      "...        ...       ...       ...   ...             ...          ...   \n",
      "92982  2021-03  CLEMENTI    4 ROOM  311C  CLEMENTI AVE 4     31 TO 33   \n",
      "92984  2021-03  CLEMENTI    4 ROOM  311B  CLEMENTI AVE 4     28 TO 30   \n",
      "92986  2021-03  CLEMENTI    4 ROOM  311B  CLEMENTI AVE 4     40 TO 42   \n",
      "92987  2021-03  CLEMENTI    4 ROOM  311B  CLEMENTI AVE 4     16 TO 18   \n",
      "92988  2021-03  CLEMENTI    4 ROOM  311B  CLEMENTI AVE 4     22 TO 24   \n",
      "\n",
      "       floor_area_sqm flat_model  lease_commence_date     remaining_lease  \\\n",
      "1511            100.0    Model A                 2013  95 years 07 months   \n",
      "2825             92.0    Model A                 2013  95 years 06 months   \n",
      "2826             99.0    Model A                 2013  95 years 06 months   \n",
      "2827             99.0    Model A                 2013  95 years 06 months   \n",
      "4742             96.0    Model A                 2013  95 years 05 months   \n",
      "...               ...        ...                  ...                 ...   \n",
      "92982            80.0       DBSS                 2014  92 years 11 months   \n",
      "92984            80.0       DBSS                 2014  92 years 09 months   \n",
      "92986            80.0       DBSS                 2014  92 years 10 months   \n",
      "92987            82.0       DBSS                 2014  92 years 09 months   \n",
      "92988            82.0       DBSS                 2014  92 years 09 months   \n",
      "\n",
      "       resale_price  remaining_lease_year  \n",
      "1511       678000.0                    92  \n",
      "2825       714000.0                    92  \n",
      "2826       735000.0                    92  \n",
      "2827       748000.0                    92  \n",
      "4742       610000.0                    92  \n",
      "...             ...                   ...  \n",
      "92982      745000.0                    93  \n",
      "92984      740000.0                    93  \n",
      "92986      715000.0                    93  \n",
      "92987      750000.0                    93  \n",
      "92988      750000.0                    93  \n",
      "\n",
      "[239 rows x 12 columns]\n"
     ]
    }
   ],
   "source": [
    "# Select 4-room resale flats in Clementi which has at least 90 years of remaining lease left\n",
    "\n",
    "df12 = df10[df10['remaining_lease_year']>=90]\n",
    "\n",
    "print(df12)"
   ]
  },
  {
   "cell_type": "code",
   "execution_count": 132,
   "metadata": {},
   "outputs": [
    {
     "name": "stdout",
     "output_type": "stream",
     "text": [
      "438800.0\n",
      "730000.0\n"
     ]
    }
   ],
   "source": [
    "# Let's compare the median prices of the resale 4-room HDB flats between these two groups in Clementi\n",
    "\n",
    "print(df11['resale_price'].median()) # median price of 4-room resale HDB flat in Clementi with remaining lease of less than 60 years\n",
    "\n",
    "print(df12['resale_price'].median()) # median price of 4-room resale HDB flat in Clementi with remaining lease of more than 90 years\n",
    "\n"
   ]
  },
  {
   "cell_type": "code",
   "execution_count": 133,
   "metadata": {},
   "outputs": [
    {
     "data": {
      "image/png": "[encoded data removed]",
      "text/plain": [
       "<Figure size 432x288 with 1 Axes>"
      ]
     },
     "metadata": {
      "needs_background": "light"
     },
     "output_type": "display_data"
    }
   ],
   "source": [
    "# Let's plot a bar graph to see the resale prices of the newer and older 4 room flats in Ang Mo Kio, Bedok and Clementi\n",
    "\n",
    "flats = np.arange(6)\n",
    "prices = (410000, 679000, 380000, 642000, 438800, 730000)\n",
    "width = 0.35\n",
    "p1t = plt.bar(flats, prices, width, color='#d62728')\n",
    "\n",
    "plt.ylabel('Prices')\n",
    "plt.title('Resale flat prices')\n",
    "plt.xticks(flats, ('AMK old', 'AMK new', 'Bedok old', 'Bedok new', 'Clementi old', 'Clementi new'), rotation=90)\n",
    "plt.yticks(np.arange(0, 1000000, 100000))\n",
    "\n",
    "plt.show()\n",
    "\n"
   ]
  },
  {
   "cell_type": "markdown",
   "metadata": {},
   "source": [
    "# Based on the bar graph above, it seems that the market value of 4-room resale HDB flats which has remaining leases of 60 years or less can be close to 40% lower than those with remaining leases of 90 years or more.\n",
    "\n",
    "Let's us now check if those resale flats which are near MRT stations or integrated transport hub have higher market value than those which are further away.\n",
    "\n"
   ]
  },
  {
   "cell_type": "code",
   "execution_count": 134,
   "metadata": {},
   "outputs": [
    {
     "name": "stdout",
     "output_type": "stream",
     "text": [
      "400000.0\n",
      "320000.0\n"
     ]
    }
   ],
   "source": [
    "# We will study the example of Ang Mo Kio and Bedok, comparing the prices between resale 4-room flats with leases less than 60 years, and located 0.5km from and those located outside the 0.5km radius from their town's MRT station/integrated transport hub. \n",
    "\n",
    "# For Ang Mo Kio, we will take the examples of the resale prices of 4 room flats for blocks 333 and 152, where the first two blocks are 0.5km away and the latter two outside the 0.5km radius.\n",
    "\n",
    "# For Bedok, we will take the the examples of the resale prices of 4 room flats for blocks 411, and 71, where the first two blocks are 0.5km away and the latter two outside the 0.5km radius.\n",
    "\n",
    "# For Ang Mo Kio\n",
    "\n",
    "df13 = df4[df4['block']=='333'] \n",
    "\n",
    "df14 = df4[df4['block']=='152']\n",
    "\n",
    "print(df13['resale_price'].median()) # Median resale price for a 4-room unit which is 0.5km away from Ang Mo Kio MRT\n",
    "\n",
    "print(df14['resale_price'].median()) # Median resale price for a 4-room unit which is more than 0.5km away from Ang Mo Kio MRT"
   ]
  },
  {
   "cell_type": "code",
   "execution_count": 135,
   "metadata": {},
   "outputs": [
    {
     "name": "stdout",
     "output_type": "stream",
     "text": [
      "400000.0\n",
      "320000.0\n"
     ]
    }
   ],
   "source": [
    "# For Bedok \n",
    "\n",
    "df15 = df4[df4['block']=='411']\n",
    "\n",
    "df16 = df4[df4['block']=='71']\n",
    "\n",
    "print(df13['resale_price'].median()) # Median resale price for a 4-room unit which is 0.5km away from Bedok MRT\n",
    "\n",
    "print(df14['resale_price'].median()) # Median resale price for a 4-room unit which is more than 0.5km away from Bedok MRT"
   ]
  },
  {
   "cell_type": "markdown",
   "metadata": {},
   "source": [
    "# From the examples above, we can see that the \"MRT\" premium can enhance the resale value of up to 25%"
   ]
  },
  {
   "cell_type": "code",
   "execution_count": 136,
   "metadata": {},
   "outputs": [
    {
     "name": "stdout",
     "output_type": "stream",
     "text": [
      "[3338.65196276   56.06584019]\n"
     ]
    }
   ],
   "source": [
    "# Let's plot a multiple regression to find out how the value of resale 4-room flat correlates with remaining_lease_year and floor_area_sqm\n",
    "\n",
    "X = df2[['remaining_lease_year', 'floor_area_sqm']]\n",
    "y= df2['resale_price']\n",
    "\n",
    "from sklearn import linear_model\n",
    "\n",
    "regr = linear_model.LinearRegression()\n",
    "regr.fit(X, y)\n",
    "\n",
    "print(regr.coef_)"
   ]
  },
  {
   "cell_type": "markdown",
   "metadata": {},
   "source": [
    "# Let's examine the trend of prices since 1990 of resale flats built in 1979 or earlier \n"
   ]
  },
  {
   "cell_type": "code",
   "execution_count": 137,
   "metadata": {},
   "outputs": [
    {
     "name": "stderr",
     "output_type": "stream",
     "text": [
      "C:\\Users\\anghe\\Anaconda3\\lib\\site-packages\\ipykernel_launcher.py:15: FutureWarning: Sorting because non-concatenation axis is not aligned. A future version\n",
      "of pandas will change to not sort by default.\n",
      "\n",
      "To accept the future behavior, pass 'sort=False'.\n",
      "\n",
      "To retain the current behavior and silence the warning, pass 'sort=True'.\n",
      "\n",
      "  from ipykernel import kernelapp as app\n"
     ]
    }
   ],
   "source": [
    "# Load dataset\n",
    "\n",
    "df17 = pd.read_csv('resale-flat-prices-based-on-approval-date-1990-1999.csv')\n",
    "\n",
    "df18 = pd.read_csv('resale-flat-prices-based-on-approval-date-2000-feb-2012.csv')\n",
    "\n",
    "df19 = pd.read_csv('resale-flat-prices-based-on-registration-date-from-mar-2012-to-dec-2014.csv')\n",
    "\n",
    "df20 = pd.read_csv('resale-flat-prices-based-on-registration-date-from-jan-2015-to-dec-2016.csv')\n",
    "\n",
    "df60 = pd.read_csv('resale-flat-prices-based-on-registration-date-from-jan-2017-onwards.csv')\n",
    "\n",
    "frames = [df17, df18, df19, df20, df60]\n",
    "\n",
    "result = pd.concat(frames)"
   ]
  },
  {
   "cell_type": "code",
   "execution_count": 138,
   "metadata": {},
   "outputs": [
    {
     "name": "stdout",
     "output_type": "stream",
     "text": [
      "      block        flat_model         flat_type  floor_area_sqm  \\\n",
      "0       309          IMPROVED            1 ROOM            31.0   \n",
      "1       309          IMPROVED            1 ROOM            31.0   \n",
      "2       309          IMPROVED            1 ROOM            31.0   \n",
      "3       309          IMPROVED            1 ROOM            31.0   \n",
      "4       216    NEW GENERATION            3 ROOM            73.0   \n",
      "...     ...               ...               ...             ...   \n",
      "94706   360         Apartment         EXECUTIVE           142.0   \n",
      "94707   277        Maisonette         EXECUTIVE           146.0   \n",
      "94708   724         Apartment         EXECUTIVE           142.0   \n",
      "94709   828        Maisonette         EXECUTIVE           146.0   \n",
      "94710   633  Multi Generation  MULTI-GENERATION           171.0   \n",
      "\n",
      "       lease_commence_date    month     remaining_lease  resale_price  \\\n",
      "0                     1977  1990-01                 NaN        9000.0   \n",
      "1                     1977  1990-01                 NaN        6000.0   \n",
      "2                     1977  1990-01                 NaN        8000.0   \n",
      "3                     1977  1990-01                 NaN        6000.0   \n",
      "4                     1976  1990-01                 NaN       47200.0   \n",
      "...                    ...      ...                 ...           ...   \n",
      "94706                 1988  2021-03  66 years 04 months      600000.0   \n",
      "94707                 1985  2021-03  63 years 05 months      593888.0   \n",
      "94708                 1986  2021-03  64 years 05 months      592000.0   \n",
      "94709                 1988  2021-03  65 years 10 months      630000.0   \n",
      "94710                 1987  2021-03  65 years 10 months      860000.0   \n",
      "\n",
      "      storey_range       street_name        town  \n",
      "0         10 TO 12  ANG MO KIO AVE 1  ANG MO KIO  \n",
      "1         04 TO 06  ANG MO KIO AVE 1  ANG MO KIO  \n",
      "2         10 TO 12  ANG MO KIO AVE 1  ANG MO KIO  \n",
      "3         07 TO 09  ANG MO KIO AVE 1  ANG MO KIO  \n",
      "4         04 TO 06  ANG MO KIO AVE 1  ANG MO KIO  \n",
      "...            ...               ...         ...  \n",
      "94706     04 TO 06    YISHUN RING RD      YISHUN  \n",
      "94707     07 TO 09      YISHUN ST 22      YISHUN  \n",
      "94708     04 TO 06      YISHUN ST 71      YISHUN  \n",
      "94709     01 TO 03      YISHUN ST 81      YISHUN  \n",
      "94710     10 TO 12      YISHUN ST 61      YISHUN  \n",
      "\n",
      "[840918 rows x 11 columns]\n"
     ]
    }
   ],
   "source": [
    "print(result)"
   ]
  },
  {
   "cell_type": "code",
   "execution_count": 139,
   "metadata": {},
   "outputs": [
    {
     "name": "stdout",
     "output_type": "stream",
     "text": [
      "      block      flat_model flat_type  floor_area_sqm  lease_commence_date  \\\n",
      "104     211  NEW GENERATION    4 ROOM            81.0                 1977   \n",
      "105     209  NEW GENERATION    4 ROOM            91.0                 1977   \n",
      "106     231  NEW GENERATION    4 ROOM            92.0                 1977   \n",
      "107     308  NEW GENERATION    4 ROOM            92.0                 1976   \n",
      "108     254  NEW GENERATION    4 ROOM            97.0                 1977   \n",
      "...     ...             ...       ...             ...                  ...   \n",
      "94399   200        Improved    4 ROOM            87.0                 1973   \n",
      "94437    22  New Generation    4 ROOM            92.0                 1977   \n",
      "94438    29  New Generation    4 ROOM            97.0                 1979   \n",
      "94439    25  New Generation    4 ROOM            91.0                 1977   \n",
      "94440    27  New Generation    4 ROOM            91.0                 1977   \n",
      "\n",
      "         month     remaining_lease  resale_price storey_range  \\\n",
      "104    1990-01                 NaN       80000.0     04 TO 06   \n",
      "105    1990-01                 NaN       72000.0     07 TO 09   \n",
      "106    1990-01                 NaN       72000.0     04 TO 06   \n",
      "107    1990-01                 NaN       86000.0     10 TO 12   \n",
      "108    1990-01                 NaN       72000.0     10 TO 12   \n",
      "...        ...                 ...           ...          ...   \n",
      "94399  2021-03  51 years 05 months      360000.0     04 TO 06   \n",
      "94437  2021-03  55 years 04 months      293000.0     10 TO 12   \n",
      "94438  2021-03  57 years 08 months      290000.0     04 TO 06   \n",
      "94439  2021-03  55 years 03 months      300000.0     10 TO 12   \n",
      "94440  2021-03  55 years 08 months      308800.0     10 TO 12   \n",
      "\n",
      "            street_name        town  \n",
      "104    ANG MO KIO AVE 3  ANG MO KIO  \n",
      "105    ANG MO KIO AVE 3  ANG MO KIO  \n",
      "106    ANG MO KIO AVE 3  ANG MO KIO  \n",
      "107    ANG MO KIO AVE 1  ANG MO KIO  \n",
      "108    ANG MO KIO AVE 4  ANG MO KIO  \n",
      "...                 ...         ...  \n",
      "94399     TOA PAYOH NTH   TOA PAYOH  \n",
      "94437      MARSILING DR   WOODLANDS  \n",
      "94438      MARSILING DR   WOODLANDS  \n",
      "94439      MARSILING DR   WOODLANDS  \n",
      "94440      MARSILING DR   WOODLANDS  \n",
      "\n",
      "[35214 rows x 11 columns]\n",
      "         month  resale_price\n",
      "104    1990-01       80000.0\n",
      "105    1990-01       72000.0\n",
      "106    1990-01       72000.0\n",
      "107    1990-01       86000.0\n",
      "108    1990-01       72000.0\n",
      "...        ...           ...\n",
      "94399  2021-03      360000.0\n",
      "94437  2021-03      293000.0\n",
      "94438  2021-03      290000.0\n",
      "94439  2021-03      300000.0\n",
      "94440  2021-03      308800.0\n",
      "\n",
      "[35214 rows x 2 columns]\n"
     ]
    },
    {
     "data": {
      "text/plain": [
       "month\n",
       "1990-01     71400.0\n",
       "1990-02     71400.0\n",
       "1990-03     71600.0\n",
       "1990-04     75000.0\n",
       "1990-05     72000.0\n",
       "             ...   \n",
       "2020-11    397000.0\n",
       "2020-12    405000.0\n",
       "2021-01    418000.0\n",
       "2021-02    405000.0\n",
       "2021-03    423400.0\n",
       "Name: resale_price, Length: 375, dtype: float64"
      ]
     },
     "execution_count": 139,
     "metadata": {},
     "output_type": "execute_result"
    }
   ],
   "source": [
    "# Extract 4-room flats with lease_commence_date from 1979 and before, together with their resale prices\n",
    "\n",
    "df21 = result[result['lease_commence_date']<=1979] # Extract 4-room flats with lease commence date from 1979 and before\n",
    "\n",
    "df22 = df21[df21['flat_type']=='4 ROOM']\n",
    "\n",
    "print(df22)\n",
    "\n",
    "df23 = df22[['month',  'resale_price']]\n",
    "\n",
    "print(df23)\n",
    "\n",
    "df23.groupby('month').resale_price.median()\n",
    "\n"
   ]
  },
  {
   "cell_type": "code",
   "execution_count": 167,
   "metadata": {},
   "outputs": [
    {
     "data": {
      "image/png": "[encoded data removed]",
      "text/plain": [
       "<Figure size 432x288 with 1 Axes>"
      ]
     },
     "metadata": {
      "needs_background": "light"
     },
     "output_type": "display_data"
    }
   ],
   "source": [
    "# Plot line graph to show the trend of 4-room resale flats built in 1979 and before\n",
    "\n",
    "plt.plot(df23.groupby('month').resale_price.median(), color='red')\n",
    "plt.title('resale_price vs month', fontsize=14)\n",
    "plt.xlabel('month', fontsize=14)\n",
    "plt.ylabel('resale_price', fontsize=14)\n",
    "plt.grid(True)\n",
    "plt.show()\n"
   ]
  },
  {
   "cell_type": "code",
   "execution_count": 141,
   "metadata": {},
   "outputs": [
    {
     "name": "stdout",
     "output_type": "stream",
     "text": [
      "      block      flat_model flat_type  floor_area_sqm  lease_commence_date  \\\n",
      "123     473  NEW GENERATION    4 ROOM            91.0                 1984   \n",
      "126     456  NEW GENERATION    4 ROOM           100.0                 1980   \n",
      "127     544  NEW GENERATION    4 ROOM            92.0                 1981   \n",
      "128     640  NEW GENERATION    4 ROOM            91.0                 1980   \n",
      "129     638  NEW GENERATION    4 ROOM            91.0                 1980   \n",
      "...     ...             ...       ...             ...                  ...   \n",
      "94672   738  New Generation    4 ROOM            92.0                 1985   \n",
      "94673   749  New Generation    4 ROOM            91.0                 1984   \n",
      "94674   873         Model A    4 ROOM           104.0                 1988   \n",
      "94675   866         Model A    4 ROOM           104.0                 1988   \n",
      "94676   868         Model A    4 ROOM           104.0                 1987   \n",
      "\n",
      "         month     remaining_lease  resale_price storey_range  \\\n",
      "123    1990-01                 NaN       60000.0     01 TO 03   \n",
      "126    1990-01                 NaN       70500.0     01 TO 03   \n",
      "127    1990-01                 NaN       79900.0     01 TO 03   \n",
      "128    1990-01                 NaN       70000.0     10 TO 12   \n",
      "129    1990-01                 NaN       96500.0     10 TO 12   \n",
      "...        ...                 ...           ...          ...   \n",
      "94672  2021-03  62 years 11 months      360000.0     04 TO 06   \n",
      "94673  2021-03  62 years 03 months      440000.0     04 TO 06   \n",
      "94674  2021-03  66 years 02 months      390000.0     01 TO 03   \n",
      "94675  2021-03            66 years      403888.0     01 TO 03   \n",
      "94676  2021-03  65 years 09 months      450000.0     10 TO 12   \n",
      "\n",
      "             street_name        town  \n",
      "123    ANG MO KIO AVE 10  ANG MO KIO  \n",
      "126    ANG MO KIO AVE 10  ANG MO KIO  \n",
      "127    ANG MO KIO AVE 10  ANG MO KIO  \n",
      "128     ANG MO KIO AVE 6  ANG MO KIO  \n",
      "129     ANG MO KIO AVE 6  ANG MO KIO  \n",
      "...                  ...         ...  \n",
      "94672       YISHUN ST 72      YISHUN  \n",
      "94673       YISHUN ST 72      YISHUN  \n",
      "94674       YISHUN ST 81      YISHUN  \n",
      "94675       YISHUN ST 81      YISHUN  \n",
      "94676       YISHUN ST 81      YISHUN  \n",
      "\n",
      "[280058 rows x 11 columns]\n",
      "      block      flat_model flat_type  floor_area_sqm  lease_commence_date  \\\n",
      "123     473  NEW GENERATION    4 ROOM            91.0                 1984   \n",
      "126     456  NEW GENERATION    4 ROOM           100.0                 1980   \n",
      "127     544  NEW GENERATION    4 ROOM            92.0                 1981   \n",
      "128     640  NEW GENERATION    4 ROOM            91.0                 1980   \n",
      "129     638  NEW GENERATION    4 ROOM            91.0                 1980   \n",
      "...     ...             ...       ...             ...                  ...   \n",
      "94672   738  New Generation    4 ROOM            92.0                 1985   \n",
      "94673   749  New Generation    4 ROOM            91.0                 1984   \n",
      "94674   873         Model A    4 ROOM           104.0                 1988   \n",
      "94675   866         Model A    4 ROOM           104.0                 1988   \n",
      "94676   868         Model A    4 ROOM           104.0                 1987   \n",
      "\n",
      "         month     remaining_lease  resale_price storey_range  \\\n",
      "123    1990-01                 NaN       60000.0     01 TO 03   \n",
      "126    1990-01                 NaN       70500.0     01 TO 03   \n",
      "127    1990-01                 NaN       79900.0     01 TO 03   \n",
      "128    1990-01                 NaN       70000.0     10 TO 12   \n",
      "129    1990-01                 NaN       96500.0     10 TO 12   \n",
      "...        ...                 ...           ...          ...   \n",
      "94672  2021-03  62 years 11 months      360000.0     04 TO 06   \n",
      "94673  2021-03  62 years 03 months      440000.0     04 TO 06   \n",
      "94674  2021-03  66 years 02 months      390000.0     01 TO 03   \n",
      "94675  2021-03            66 years      403888.0     01 TO 03   \n",
      "94676  2021-03  65 years 09 months      450000.0     10 TO 12   \n",
      "\n",
      "             street_name        town  \n",
      "123    ANG MO KIO AVE 10  ANG MO KIO  \n",
      "126    ANG MO KIO AVE 10  ANG MO KIO  \n",
      "127    ANG MO KIO AVE 10  ANG MO KIO  \n",
      "128     ANG MO KIO AVE 6  ANG MO KIO  \n",
      "129     ANG MO KIO AVE 6  ANG MO KIO  \n",
      "...                  ...         ...  \n",
      "94672       YISHUN ST 72      YISHUN  \n",
      "94673       YISHUN ST 72      YISHUN  \n",
      "94674       YISHUN ST 81      YISHUN  \n",
      "94675       YISHUN ST 81      YISHUN  \n",
      "94676       YISHUN ST 81      YISHUN  \n",
      "\n",
      "[280058 rows x 11 columns]\n"
     ]
    },
    {
     "data": {
      "text/plain": [
       "month\n",
       "1990-01     83000.0\n",
       "1990-02     87000.0\n",
       "1990-03     83500.0\n",
       "1990-04     85550.0\n",
       "1990-05     86000.0\n",
       "             ...   \n",
       "2020-11    435000.0\n",
       "2020-12    440000.0\n",
       "2021-01    450000.0\n",
       "2021-02    450000.0\n",
       "2021-03    458000.0\n",
       "Name: resale_price, Length: 375, dtype: float64"
      ]
     },
     "execution_count": 141,
     "metadata": {},
     "output_type": "execute_result"
    }
   ],
   "source": [
    "# Extract 4-room flats with lease_commence_date from 1980 onwards, together with their resale prices\n",
    "\n",
    "df24 = result[result['lease_commence_date']>=1980] # Extract 4-room flats with lease commence date from 1979 and before\n",
    "\n",
    "df25 = df24[df24['flat_type']=='4 ROOM']\n",
    "\n",
    "print(df25)\n",
    "\n",
    "df26 = df25[['month',  'resale_price']]\n",
    "\n",
    "print(df25)\n",
    "\n",
    "df26.groupby('month').resale_price.median()"
   ]
  },
  {
   "cell_type": "code",
   "execution_count": 168,
   "metadata": {},
   "outputs": [
    {
     "data": {
      "image/png": "[encoded data removed]",
      "text/plain": [
       "<Figure size 432x288 with 1 Axes>"
      ]
     },
     "metadata": {
      "needs_background": "light"
     },
     "output_type": "display_data"
    }
   ],
   "source": [
    "# Plot line graph to show the trend of 4-room resale flats built in 1980 and after\n",
    "\n",
    "plt.plot(df26.groupby('month').resale_price.median(), color='red')\n",
    "plt.title('resale_price vs month', fontsize=14)\n",
    "plt.xlabel('month', fontsize=14)\n",
    "plt.ylabel('resale_price', fontsize=14)\n",
    "plt.grid(True)\n",
    "plt.show()"
   ]
  },
  {
   "cell_type": "code",
   "execution_count": 143,
   "metadata": {},
   "outputs": [
    {
     "data": {
      "text/html": [
       "<div>\n",
       "<style scoped>\n",
       "    .dataframe tbody tr th:only-of-type {\n",
       "        vertical-align: middle;\n",
       "    }\n",
       "\n",
       "    .dataframe tbody tr th {\n",
       "        vertical-align: top;\n",
       "    }\n",
       "\n",
       "    .dataframe thead th {\n",
       "        text-align: right;\n",
       "    }\n",
       "</style>\n",
       "<table border=\"1\" class=\"dataframe\">\n",
       "  <thead>\n",
       "    <tr style=\"text-align: right;\">\n",
       "      <th></th>\n",
       "      <th>blk_no</th>\n",
       "      <th>street</th>\n",
       "      <th>max_floor_lvl</th>\n",
       "      <th>year_completed</th>\n",
       "      <th>residential</th>\n",
       "      <th>commercial</th>\n",
       "      <th>market_hawker</th>\n",
       "      <th>miscellaneous</th>\n",
       "      <th>multistorey_carpark</th>\n",
       "      <th>precinct_pavilion</th>\n",
       "      <th>...</th>\n",
       "      <th>3room_sold</th>\n",
       "      <th>4room_sold</th>\n",
       "      <th>5room_sold</th>\n",
       "      <th>exec_sold</th>\n",
       "      <th>multigen_sold</th>\n",
       "      <th>studio_apartment_sold</th>\n",
       "      <th>1room_rental</th>\n",
       "      <th>2room_rental</th>\n",
       "      <th>3room_rental</th>\n",
       "      <th>other_room_rental</th>\n",
       "    </tr>\n",
       "  </thead>\n",
       "  <tbody>\n",
       "    <tr>\n",
       "      <td>0</td>\n",
       "      <td>1</td>\n",
       "      <td>BEACH RD</td>\n",
       "      <td>16</td>\n",
       "      <td>1970</td>\n",
       "      <td>Y</td>\n",
       "      <td>Y</td>\n",
       "      <td>N</td>\n",
       "      <td>N</td>\n",
       "      <td>N</td>\n",
       "      <td>N</td>\n",
       "      <td>...</td>\n",
       "      <td>138</td>\n",
       "      <td>1</td>\n",
       "      <td>2</td>\n",
       "      <td>0</td>\n",
       "      <td>0</td>\n",
       "      <td>0</td>\n",
       "      <td>0</td>\n",
       "      <td>0</td>\n",
       "      <td>0</td>\n",
       "      <td>0</td>\n",
       "    </tr>\n",
       "    <tr>\n",
       "      <td>1</td>\n",
       "      <td>1</td>\n",
       "      <td>BEDOK STH AVE 1</td>\n",
       "      <td>14</td>\n",
       "      <td>1975</td>\n",
       "      <td>Y</td>\n",
       "      <td>N</td>\n",
       "      <td>N</td>\n",
       "      <td>Y</td>\n",
       "      <td>N</td>\n",
       "      <td>N</td>\n",
       "      <td>...</td>\n",
       "      <td>204</td>\n",
       "      <td>0</td>\n",
       "      <td>2</td>\n",
       "      <td>0</td>\n",
       "      <td>0</td>\n",
       "      <td>0</td>\n",
       "      <td>0</td>\n",
       "      <td>0</td>\n",
       "      <td>0</td>\n",
       "      <td>0</td>\n",
       "    </tr>\n",
       "    <tr>\n",
       "      <td>2</td>\n",
       "      <td>1</td>\n",
       "      <td>CANTONMENT RD</td>\n",
       "      <td>2</td>\n",
       "      <td>2010</td>\n",
       "      <td>N</td>\n",
       "      <td>Y</td>\n",
       "      <td>N</td>\n",
       "      <td>N</td>\n",
       "      <td>N</td>\n",
       "      <td>N</td>\n",
       "      <td>...</td>\n",
       "      <td>0</td>\n",
       "      <td>0</td>\n",
       "      <td>0</td>\n",
       "      <td>0</td>\n",
       "      <td>0</td>\n",
       "      <td>0</td>\n",
       "      <td>0</td>\n",
       "      <td>0</td>\n",
       "      <td>0</td>\n",
       "      <td>0</td>\n",
       "    </tr>\n",
       "    <tr>\n",
       "      <td>3</td>\n",
       "      <td>1</td>\n",
       "      <td>CHAI CHEE RD</td>\n",
       "      <td>15</td>\n",
       "      <td>1982</td>\n",
       "      <td>Y</td>\n",
       "      <td>N</td>\n",
       "      <td>N</td>\n",
       "      <td>N</td>\n",
       "      <td>N</td>\n",
       "      <td>N</td>\n",
       "      <td>...</td>\n",
       "      <td>0</td>\n",
       "      <td>10</td>\n",
       "      <td>92</td>\n",
       "      <td>0</td>\n",
       "      <td>0</td>\n",
       "      <td>0</td>\n",
       "      <td>0</td>\n",
       "      <td>0</td>\n",
       "      <td>0</td>\n",
       "      <td>0</td>\n",
       "    </tr>\n",
       "    <tr>\n",
       "      <td>4</td>\n",
       "      <td>1</td>\n",
       "      <td>CHANGI VILLAGE RD</td>\n",
       "      <td>4</td>\n",
       "      <td>1975</td>\n",
       "      <td>Y</td>\n",
       "      <td>Y</td>\n",
       "      <td>N</td>\n",
       "      <td>N</td>\n",
       "      <td>N</td>\n",
       "      <td>N</td>\n",
       "      <td>...</td>\n",
       "      <td>54</td>\n",
       "      <td>0</td>\n",
       "      <td>1</td>\n",
       "      <td>0</td>\n",
       "      <td>0</td>\n",
       "      <td>0</td>\n",
       "      <td>0</td>\n",
       "      <td>0</td>\n",
       "      <td>0</td>\n",
       "      <td>0</td>\n",
       "    </tr>\n",
       "  </tbody>\n",
       "</table>\n",
       "<p>5 rows × 24 columns</p>\n",
       "</div>"
      ],
      "text/plain": [
       "  blk_no             street  max_floor_lvl  year_completed residential  \\\n",
       "0      1           BEACH RD             16            1970           Y   \n",
       "1      1    BEDOK STH AVE 1             14            1975           Y   \n",
       "2      1      CANTONMENT RD              2            2010           N   \n",
       "3      1       CHAI CHEE RD             15            1982           Y   \n",
       "4      1  CHANGI VILLAGE RD              4            1975           Y   \n",
       "\n",
       "  commercial market_hawker miscellaneous multistorey_carpark  \\\n",
       "0          Y             N             N                   N   \n",
       "1          N             N             Y                   N   \n",
       "2          Y             N             N                   N   \n",
       "3          N             N             N                   N   \n",
       "4          Y             N             N                   N   \n",
       "\n",
       "  precinct_pavilion  ... 3room_sold  4room_sold  5room_sold  exec_sold  \\\n",
       "0                 N  ...        138           1           2          0   \n",
       "1                 N  ...        204           0           2          0   \n",
       "2                 N  ...          0           0           0          0   \n",
       "3                 N  ...          0          10          92          0   \n",
       "4                 N  ...         54           0           1          0   \n",
       "\n",
       "   multigen_sold  studio_apartment_sold  1room_rental  2room_rental  \\\n",
       "0              0                      0             0             0   \n",
       "1              0                      0             0             0   \n",
       "2              0                      0             0             0   \n",
       "3              0                      0             0             0   \n",
       "4              0                      0             0             0   \n",
       "\n",
       "   3room_rental  other_room_rental  \n",
       "0             0                  0  \n",
       "1             0                  0  \n",
       "2             0                  0  \n",
       "3             0                  0  \n",
       "4             0                  0  \n",
       "\n",
       "[5 rows x 24 columns]"
      ]
     },
     "execution_count": 143,
     "metadata": {},
     "output_type": "execute_result"
    }
   ],
   "source": [
    "# Let's get the overall picture of HDB flats\n",
    "\n",
    "#load dataset\n",
    "\n",
    "df27 = pd.read_csv('hdb-property-information.csv')\n",
    "\n",
    "df27.head()\n"
   ]
  },
  {
   "cell_type": "code",
   "execution_count": 144,
   "metadata": {},
   "outputs": [
    {
     "data": {
      "text/html": [
       "<div>\n",
       "<style scoped>\n",
       "    .dataframe tbody tr th:only-of-type {\n",
       "        vertical-align: middle;\n",
       "    }\n",
       "\n",
       "    .dataframe tbody tr th {\n",
       "        vertical-align: top;\n",
       "    }\n",
       "\n",
       "    .dataframe thead th {\n",
       "        text-align: right;\n",
       "    }\n",
       "</style>\n",
       "<table border=\"1\" class=\"dataframe\">\n",
       "  <thead>\n",
       "    <tr style=\"text-align: right;\">\n",
       "      <th></th>\n",
       "      <th>blk_no</th>\n",
       "      <th>street</th>\n",
       "      <th>max_floor_lvl</th>\n",
       "      <th>year_completed</th>\n",
       "      <th>residential</th>\n",
       "      <th>commercial</th>\n",
       "      <th>market_hawker</th>\n",
       "      <th>miscellaneous</th>\n",
       "      <th>multistorey_carpark</th>\n",
       "      <th>precinct_pavilion</th>\n",
       "      <th>...</th>\n",
       "      <th>3room_sold</th>\n",
       "      <th>4room_sold</th>\n",
       "      <th>5room_sold</th>\n",
       "      <th>exec_sold</th>\n",
       "      <th>multigen_sold</th>\n",
       "      <th>studio_apartment_sold</th>\n",
       "      <th>1room_rental</th>\n",
       "      <th>2room_rental</th>\n",
       "      <th>3room_rental</th>\n",
       "      <th>other_room_rental</th>\n",
       "    </tr>\n",
       "  </thead>\n",
       "  <tbody>\n",
       "    <tr>\n",
       "      <td>8921</td>\n",
       "      <td>60</td>\n",
       "      <td>SENG POH LANE</td>\n",
       "      <td>1</td>\n",
       "      <td>1937</td>\n",
       "      <td>N</td>\n",
       "      <td>Y</td>\n",
       "      <td>N</td>\n",
       "      <td>N</td>\n",
       "      <td>N</td>\n",
       "      <td>N</td>\n",
       "      <td>...</td>\n",
       "      <td>0</td>\n",
       "      <td>0</td>\n",
       "      <td>0</td>\n",
       "      <td>0</td>\n",
       "      <td>0</td>\n",
       "      <td>0</td>\n",
       "      <td>0</td>\n",
       "      <td>0</td>\n",
       "      <td>0</td>\n",
       "      <td>0</td>\n",
       "    </tr>\n",
       "    <tr>\n",
       "      <td>10609</td>\n",
       "      <td>72</td>\n",
       "      <td>SENG POH RD</td>\n",
       "      <td>3</td>\n",
       "      <td>1937</td>\n",
       "      <td>Y</td>\n",
       "      <td>N</td>\n",
       "      <td>N</td>\n",
       "      <td>N</td>\n",
       "      <td>N</td>\n",
       "      <td>N</td>\n",
       "      <td>...</td>\n",
       "      <td>15</td>\n",
       "      <td>7</td>\n",
       "      <td>0</td>\n",
       "      <td>0</td>\n",
       "      <td>0</td>\n",
       "      <td>0</td>\n",
       "      <td>0</td>\n",
       "      <td>0</td>\n",
       "      <td>0</td>\n",
       "      <td>0</td>\n",
       "    </tr>\n",
       "    <tr>\n",
       "      <td>10393</td>\n",
       "      <td>70</td>\n",
       "      <td>SENG POH LANE</td>\n",
       "      <td>1</td>\n",
       "      <td>1937</td>\n",
       "      <td>N</td>\n",
       "      <td>Y</td>\n",
       "      <td>N</td>\n",
       "      <td>N</td>\n",
       "      <td>N</td>\n",
       "      <td>N</td>\n",
       "      <td>...</td>\n",
       "      <td>0</td>\n",
       "      <td>0</td>\n",
       "      <td>0</td>\n",
       "      <td>0</td>\n",
       "      <td>0</td>\n",
       "      <td>0</td>\n",
       "      <td>0</td>\n",
       "      <td>0</td>\n",
       "      <td>0</td>\n",
       "      <td>0</td>\n",
       "    </tr>\n",
       "    <tr>\n",
       "      <td>10690</td>\n",
       "      <td>73</td>\n",
       "      <td>ENG WATT ST</td>\n",
       "      <td>3</td>\n",
       "      <td>1937</td>\n",
       "      <td>Y</td>\n",
       "      <td>N</td>\n",
       "      <td>N</td>\n",
       "      <td>N</td>\n",
       "      <td>N</td>\n",
       "      <td>N</td>\n",
       "      <td>...</td>\n",
       "      <td>8</td>\n",
       "      <td>34</td>\n",
       "      <td>0</td>\n",
       "      <td>0</td>\n",
       "      <td>0</td>\n",
       "      <td>0</td>\n",
       "      <td>0</td>\n",
       "      <td>0</td>\n",
       "      <td>0</td>\n",
       "      <td>0</td>\n",
       "    </tr>\n",
       "    <tr>\n",
       "      <td>9258</td>\n",
       "      <td>62</td>\n",
       "      <td>SENG POH LANE</td>\n",
       "      <td>1</td>\n",
       "      <td>1937</td>\n",
       "      <td>N</td>\n",
       "      <td>Y</td>\n",
       "      <td>N</td>\n",
       "      <td>N</td>\n",
       "      <td>N</td>\n",
       "      <td>N</td>\n",
       "      <td>...</td>\n",
       "      <td>0</td>\n",
       "      <td>0</td>\n",
       "      <td>0</td>\n",
       "      <td>0</td>\n",
       "      <td>0</td>\n",
       "      <td>0</td>\n",
       "      <td>0</td>\n",
       "      <td>0</td>\n",
       "      <td>0</td>\n",
       "      <td>0</td>\n",
       "    </tr>\n",
       "    <tr>\n",
       "      <td>...</td>\n",
       "      <td>...</td>\n",
       "      <td>...</td>\n",
       "      <td>...</td>\n",
       "      <td>...</td>\n",
       "      <td>...</td>\n",
       "      <td>...</td>\n",
       "      <td>...</td>\n",
       "      <td>...</td>\n",
       "      <td>...</td>\n",
       "      <td>...</td>\n",
       "      <td>...</td>\n",
       "      <td>...</td>\n",
       "      <td>...</td>\n",
       "      <td>...</td>\n",
       "      <td>...</td>\n",
       "      <td>...</td>\n",
       "      <td>...</td>\n",
       "      <td>...</td>\n",
       "      <td>...</td>\n",
       "      <td>...</td>\n",
       "      <td>...</td>\n",
       "    </tr>\n",
       "    <tr>\n",
       "      <td>1728</td>\n",
       "      <td>154</td>\n",
       "      <td>BEDOK STH RD</td>\n",
       "      <td>7</td>\n",
       "      <td>2021</td>\n",
       "      <td>N</td>\n",
       "      <td>N</td>\n",
       "      <td>N</td>\n",
       "      <td>N</td>\n",
       "      <td>Y</td>\n",
       "      <td>N</td>\n",
       "      <td>...</td>\n",
       "      <td>0</td>\n",
       "      <td>0</td>\n",
       "      <td>0</td>\n",
       "      <td>0</td>\n",
       "      <td>0</td>\n",
       "      <td>0</td>\n",
       "      <td>0</td>\n",
       "      <td>0</td>\n",
       "      <td>0</td>\n",
       "      <td>0</td>\n",
       "    </tr>\n",
       "    <tr>\n",
       "      <td>1726</td>\n",
       "      <td>153C</td>\n",
       "      <td>BEDOK STH RD</td>\n",
       "      <td>18</td>\n",
       "      <td>2021</td>\n",
       "      <td>Y</td>\n",
       "      <td>N</td>\n",
       "      <td>N</td>\n",
       "      <td>N</td>\n",
       "      <td>N</td>\n",
       "      <td>N</td>\n",
       "      <td>...</td>\n",
       "      <td>0</td>\n",
       "      <td>83</td>\n",
       "      <td>34</td>\n",
       "      <td>0</td>\n",
       "      <td>0</td>\n",
       "      <td>0</td>\n",
       "      <td>0</td>\n",
       "      <td>0</td>\n",
       "      <td>0</td>\n",
       "      <td>0</td>\n",
       "    </tr>\n",
       "    <tr>\n",
       "      <td>1725</td>\n",
       "      <td>153B</td>\n",
       "      <td>BEDOK STH RD</td>\n",
       "      <td>18</td>\n",
       "      <td>2021</td>\n",
       "      <td>Y</td>\n",
       "      <td>N</td>\n",
       "      <td>N</td>\n",
       "      <td>N</td>\n",
       "      <td>N</td>\n",
       "      <td>N</td>\n",
       "      <td>...</td>\n",
       "      <td>0</td>\n",
       "      <td>32</td>\n",
       "      <td>68</td>\n",
       "      <td>0</td>\n",
       "      <td>0</td>\n",
       "      <td>0</td>\n",
       "      <td>0</td>\n",
       "      <td>0</td>\n",
       "      <td>0</td>\n",
       "      <td>0</td>\n",
       "    </tr>\n",
       "    <tr>\n",
       "      <td>7257</td>\n",
       "      <td>467C</td>\n",
       "      <td>BT BATOK WEST AVE 9</td>\n",
       "      <td>18</td>\n",
       "      <td>2021</td>\n",
       "      <td>Y</td>\n",
       "      <td>N</td>\n",
       "      <td>N</td>\n",
       "      <td>N</td>\n",
       "      <td>N</td>\n",
       "      <td>N</td>\n",
       "      <td>...</td>\n",
       "      <td>34</td>\n",
       "      <td>0</td>\n",
       "      <td>0</td>\n",
       "      <td>0</td>\n",
       "      <td>0</td>\n",
       "      <td>0</td>\n",
       "      <td>0</td>\n",
       "      <td>0</td>\n",
       "      <td>0</td>\n",
       "      <td>0</td>\n",
       "    </tr>\n",
       "    <tr>\n",
       "      <td>5891</td>\n",
       "      <td>377B</td>\n",
       "      <td>HOUGANG ST 32</td>\n",
       "      <td>19</td>\n",
       "      <td>2021</td>\n",
       "      <td>Y</td>\n",
       "      <td>N</td>\n",
       "      <td>N</td>\n",
       "      <td>N</td>\n",
       "      <td>N</td>\n",
       "      <td>N</td>\n",
       "      <td>...</td>\n",
       "      <td>0</td>\n",
       "      <td>87</td>\n",
       "      <td>49</td>\n",
       "      <td>0</td>\n",
       "      <td>0</td>\n",
       "      <td>0</td>\n",
       "      <td>0</td>\n",
       "      <td>0</td>\n",
       "      <td>0</td>\n",
       "      <td>0</td>\n",
       "    </tr>\n",
       "  </tbody>\n",
       "</table>\n",
       "<p>12345 rows × 24 columns</p>\n",
       "</div>"
      ],
      "text/plain": [
       "      blk_no               street  max_floor_lvl  year_completed residential  \\\n",
       "8921      60        SENG POH LANE              1            1937           N   \n",
       "10609     72          SENG POH RD              3            1937           Y   \n",
       "10393     70        SENG POH LANE              1            1937           N   \n",
       "10690     73          ENG WATT ST              3            1937           Y   \n",
       "9258      62        SENG POH LANE              1            1937           N   \n",
       "...      ...                  ...            ...             ...         ...   \n",
       "1728     154         BEDOK STH RD              7            2021           N   \n",
       "1726    153C         BEDOK STH RD             18            2021           Y   \n",
       "1725    153B         BEDOK STH RD             18            2021           Y   \n",
       "7257    467C  BT BATOK WEST AVE 9             18            2021           Y   \n",
       "5891    377B        HOUGANG ST 32             19            2021           Y   \n",
       "\n",
       "      commercial market_hawker miscellaneous multistorey_carpark  \\\n",
       "8921           Y             N             N                   N   \n",
       "10609          N             N             N                   N   \n",
       "10393          Y             N             N                   N   \n",
       "10690          N             N             N                   N   \n",
       "9258           Y             N             N                   N   \n",
       "...          ...           ...           ...                 ...   \n",
       "1728           N             N             N                   Y   \n",
       "1726           N             N             N                   N   \n",
       "1725           N             N             N                   N   \n",
       "7257           N             N             N                   N   \n",
       "5891           N             N             N                   N   \n",
       "\n",
       "      precinct_pavilion  ... 3room_sold  4room_sold  5room_sold  exec_sold  \\\n",
       "8921                  N  ...          0           0           0          0   \n",
       "10609                 N  ...         15           7           0          0   \n",
       "10393                 N  ...          0           0           0          0   \n",
       "10690                 N  ...          8          34           0          0   \n",
       "9258                  N  ...          0           0           0          0   \n",
       "...                 ...  ...        ...         ...         ...        ...   \n",
       "1728                  N  ...          0           0           0          0   \n",
       "1726                  N  ...          0          83          34          0   \n",
       "1725                  N  ...          0          32          68          0   \n",
       "7257                  N  ...         34           0           0          0   \n",
       "5891                  N  ...          0          87          49          0   \n",
       "\n",
       "       multigen_sold  studio_apartment_sold  1room_rental  2room_rental  \\\n",
       "8921               0                      0             0             0   \n",
       "10609              0                      0             0             0   \n",
       "10393              0                      0             0             0   \n",
       "10690              0                      0             0             0   \n",
       "9258               0                      0             0             0   \n",
       "...              ...                    ...           ...           ...   \n",
       "1728               0                      0             0             0   \n",
       "1726               0                      0             0             0   \n",
       "1725               0                      0             0             0   \n",
       "7257               0                      0             0             0   \n",
       "5891               0                      0             0             0   \n",
       "\n",
       "       3room_rental  other_room_rental  \n",
       "8921              0                  0  \n",
       "10609             0                  0  \n",
       "10393             0                  0  \n",
       "10690             0                  0  \n",
       "9258              0                  0  \n",
       "...             ...                ...  \n",
       "1728              0                  0  \n",
       "1726              0                  0  \n",
       "1725              0                  0  \n",
       "7257              0                  0  \n",
       "5891              0                  0  \n",
       "\n",
       "[12345 rows x 24 columns]"
      ]
     },
     "execution_count": 144,
     "metadata": {},
     "output_type": "execute_result"
    }
   ],
   "source": [
    "# Sort the dataset \n",
    "\n",
    "df27.sort_values('year_completed')"
   ]
  },
  {
   "cell_type": "code",
   "execution_count": 145,
   "metadata": {},
   "outputs": [
    {
     "name": "stdout",
     "output_type": "stream",
     "text": [
      "       year_completed residential bldg_contract_town  total_dwelling_units  \\\n",
      "0                1970           Y                KWN                   142   \n",
      "1                1975           Y                 BD                   206   \n",
      "2                2010           N                 CT                     0   \n",
      "3                1982           Y                 BD                   102   \n",
      "4                1975           Y                PRC                    55   \n",
      "...               ...         ...                ...                   ...   \n",
      "12340            2018           Y                 HG                   185   \n",
      "12341            2018           Y                 HG                   174   \n",
      "12342            2018           N                 HG                     0   \n",
      "12343            2018           Y                 HG                   306   \n",
      "12344            2018           Y                 HG                   126   \n",
      "\n",
      "       1room_sold  2room_sold  3room_sold  4room_sold  5room_sold  exec_sold  \\\n",
      "0               0           1         138           1           2          0   \n",
      "1               0           0         204           0           2          0   \n",
      "2               0           0           0           0           0          0   \n",
      "3               0           0           0          10          92          0   \n",
      "4               0           0          54           0           1          0   \n",
      "...           ...         ...         ...         ...         ...        ...   \n",
      "12340           0         102          33          50           0          0   \n",
      "12341           0          96          31          47           0          0   \n",
      "12342           0           0           0           0           0          0   \n",
      "12343           0           0           0           0           0          0   \n",
      "12344           0           0          31          95           0          0   \n",
      "\n",
      "       multigen_sold  studio_apartment_sold  \n",
      "0                  0                      0  \n",
      "1                  0                      0  \n",
      "2                  0                      0  \n",
      "3                  0                      0  \n",
      "4                  0                      0  \n",
      "...              ...                    ...  \n",
      "12340              0                      0  \n",
      "12341              0                      0  \n",
      "12342              0                      0  \n",
      "12343              0                      0  \n",
      "12344              0                      0  \n",
      "\n",
      "[12345 rows x 12 columns]\n"
     ]
    }
   ],
   "source": [
    "# Remove rows which are not relevant for the study\n",
    "\n",
    "df28 = df27.drop(['blk_no', 'street', 'max_floor_lvl', 'commercial', 'market_hawker'], axis=1) \n",
    "                   \n",
    "df29 = df28.drop(['multistorey_carpark', 'precinct_pavilion', '1room_rental', '2room_rental', 'miscellaneous'], axis=1)\n",
    "\n",
    "df30 = df29.drop(['3room_rental', 'other_room_rental'], axis=1)\n",
    "\n",
    "print(df30)"
   ]
  },
  {
   "cell_type": "code",
   "execution_count": 146,
   "metadata": {},
   "outputs": [
    {
     "name": "stdout",
     "output_type": "stream",
     "text": [
      "      year_completed residential bldg_contract_town  total_dwelling_units  \\\n",
      "1439            1961           Y                 GL                   120   \n",
      "848             1961           Y                 GL                   119   \n",
      "7448            1961           Y                 QT                   112   \n",
      "1183            1961           Y                 GL                   120   \n",
      "6957            1961           Y                 QT                   112   \n",
      "...              ...         ...                ...                   ...   \n",
      "1743            2021           Y                 BD                   153   \n",
      "1726            2021           Y                 BD                   117   \n",
      "1725            2021           Y                 BD                   100   \n",
      "7257            2021           Y                 BB                   221   \n",
      "5891            2021           Y                 HG                   136   \n",
      "\n",
      "      1room_sold  2room_sold  3room_sold  4room_sold  5room_sold  exec_sold  \\\n",
      "1439           0           0           0           0           0          0   \n",
      "848            0           0           0           0           0          0   \n",
      "7448           0           0           0           0           0          0   \n",
      "1183           0           0           0           0           0          0   \n",
      "6957           0           0           0           0           0          0   \n",
      "...          ...         ...         ...         ...         ...        ...   \n",
      "1743           0          68           0          85           0          0   \n",
      "1726           0           0           0          83          34          0   \n",
      "1725           0           0           0          32          68          0   \n",
      "7257           0         187          34           0           0          0   \n",
      "5891           0           0           0          87          49          0   \n",
      "\n",
      "      multigen_sold  studio_apartment_sold  \n",
      "1439              0                      0  \n",
      "848               0                      0  \n",
      "7448              0                      0  \n",
      "1183              0                      0  \n",
      "6957              0                      0  \n",
      "...             ...                    ...  \n",
      "1743              0                      0  \n",
      "1726              0                      0  \n",
      "1725              0                      0  \n",
      "7257              0                      0  \n",
      "5891              0                      0  \n",
      "\n",
      "[10006 rows x 12 columns]\n"
     ]
    }
   ],
   "source": [
    "df31 = df30.sort_values('year_completed')\n",
    "\n",
    "df32 = df31[df31['year_completed']>=1960]\n",
    "\n",
    "df33 = df32[df32['residential']=='Y']\n",
    "\n",
    "print(df33)"
   ]
  },
  {
   "cell_type": "code",
   "execution_count": 147,
   "metadata": {},
   "outputs": [
    {
     "data": {
      "text/plain": [
       "1081036"
      ]
     },
     "execution_count": 147,
     "metadata": {},
     "output_type": "execute_result"
    }
   ],
   "source": [
    "# Total HDB dwelling units today\n",
    "\n",
    "df33['total_dwelling_units'].sum()"
   ]
  },
  {
   "cell_type": "code",
   "execution_count": 148,
   "metadata": {},
   "outputs": [
    {
     "data": {
      "text/plain": [
       "245957"
      ]
     },
     "execution_count": 148,
     "metadata": {},
     "output_type": "execute_result"
    }
   ],
   "source": [
    "# Total number of HDB dwelling units that are more than 40 years old (i.e. those built in 1980 and before)\n",
    "\n",
    "df34 = df33[df33['year_completed']<=1980]\n",
    "\n",
    "df34['total_dwelling_units'].sum()"
   ]
  },
  {
   "cell_type": "code",
   "execution_count": 149,
   "metadata": {},
   "outputs": [
    {
     "data": {
      "text/plain": [
       "542704"
      ]
     },
     "execution_count": 149,
     "metadata": {},
     "output_type": "execute_result"
    }
   ],
   "source": [
    "# Total number of HDB dwelling units that are more than 40 years old in 2031 (i.e. those built in 1980 and before)\n",
    "\n",
    "df35 = df33[df33['year_completed']<=1990]\n",
    "\n",
    "df35['total_dwelling_units'].sum()"
   ]
  },
  {
   "cell_type": "code",
   "execution_count": 150,
   "metadata": {},
   "outputs": [
    {
     "data": {
      "text/plain": [
       "795676"
      ]
     },
     "execution_count": 150,
     "metadata": {},
     "output_type": "execute_result"
    }
   ],
   "source": [
    "# Total number of HDB dwelling units that are more than 40 years old in 2041 (i.e. those built in 1980 and before)\n",
    "\n",
    "df36 = df33[df33['year_completed']<=2000]\n",
    "\n",
    "df36['total_dwelling_units'].sum()"
   ]
  },
  {
   "cell_type": "code",
   "execution_count": 151,
   "metadata": {},
   "outputs": [
    {
     "data": {
      "image/png": "[encoded data removed]",
      "text/plain": [
       "<Figure size 432x288 with 1 Axes>"
      ]
     },
     "metadata": {
      "needs_background": "light"
     },
     "output_type": "display_data"
    }
   ],
   "source": [
    "# Plot line graph of the number of dwelling units that are more than 40 years old over the next two decades \n",
    "\n",
    "year = [2021, 2031, 2041]\n",
    "\n",
    "HDB_units_over_40years = [245957, 542704, 795676]\n",
    "\n",
    "plt.plot(year, HDB_units_over_40years)\n",
    "plt.title('Number of HDB dwelling units >40 years old in the next 20 years')\n",
    "plt.xlabel('year')\n",
    "plt.ylabel('No. of dwelling units')\n",
    "\n",
    "# zip joins x and y coordinates in pairs\n",
    "for x, y in zip(year, HDB_units_over_40years):\n",
    "\n",
    "    label = \"{:.2f}\".format(y)\n",
    "\n",
    "    plt.annotate(label, # this is the text\n",
    "                 (x,y), # this is the point to label\n",
    "                 textcoords=\"offset points\", # how to position the text\n",
    "                 xytext=(0,10), # distance from text to points (x,y)\n",
    "                 ha='center') # horizontal alignment can be left, right or center\n",
    "plt.show()"
   ]
  },
  {
   "cell_type": "code",
   "execution_count": 152,
   "metadata": {},
   "outputs": [
    {
     "data": {
      "text/plain": [
       "767915"
      ]
     },
     "execution_count": 152,
     "metadata": {},
     "output_type": "execute_result"
    }
   ],
   "source": [
    "# Number of pioneer generation: a Singaporean born on or before 31 December 1949 and obtained citizenship before 31 December 1986. 450,000 of them. \n",
    "\n",
    "# Number of Mederka generation: a Singaporean born in the 1950s. 500,000 of them.   \n",
    "\n",
    "# Most of the flats bought by pioneer generation and Mederka generation are those built before 2000. Let's get the total stock of these flats.\n",
    "\n",
    "df37 = df33[df33['year_completed']<2000]\n",
    "\n",
    "df37['total_dwelling_units'].sum()"
   ]
  },
  {
   "cell_type": "code",
   "execution_count": 153,
   "metadata": {},
   "outputs": [
    {
     "data": {
      "text/plain": [
       "245957"
      ]
     },
     "execution_count": 153,
     "metadata": {},
     "output_type": "execute_result"
    }
   ],
   "source": [
    "# Government can consider taking back old HDB flats in phases in next 20, 30 and 40 years time\n",
    "\n",
    "df34['total_dwelling_units'].sum() # Those built in 1980 and before, which may be recovered in 20 years time\n",
    "\n"
   ]
  },
  {
   "cell_type": "code",
   "execution_count": 154,
   "metadata": {},
   "outputs": [
    {
     "data": {
      "text/plain": [
       "296747"
      ]
     },
     "execution_count": 154,
     "metadata": {},
     "output_type": "execute_result"
    }
   ],
   "source": [
    "df35['total_dwelling_units'].sum() - df34['total_dwelling_units'].sum() # Those built between 1981 and 1990, which may be recovered in 30 years time\n",
    "\n"
   ]
  },
  {
   "cell_type": "code",
   "execution_count": 155,
   "metadata": {},
   "outputs": [
    {
     "data": {
      "text/plain": [
       "7015"
      ]
     },
     "execution_count": 155,
     "metadata": {},
     "output_type": "execute_result"
    }
   ],
   "source": [
    "df36['total_dwelling_units'].sum() - df35['total_dwelling_units'].sum() - df34['total_dwelling_units'].sum() # Those built between 1981 and 1990, which may be recovered in 40 years time\n"
   ]
  },
  {
   "cell_type": "code",
   "execution_count": 156,
   "metadata": {},
   "outputs": [
    {
     "data": {
      "text/plain": [
       "month\n",
       "1990-01     88000.0\n",
       "1990-02     90000.0\n",
       "1990-03     89000.0\n",
       "1990-04     88000.0\n",
       "1990-05     91000.0\n",
       "             ...   \n",
       "2020-11    525000.0\n",
       "2020-12    530000.0\n",
       "2021-01    530000.0\n",
       "2021-02    555000.0\n",
       "2021-03    565000.0\n",
       "Name: resale_price, Length: 375, dtype: float64"
      ]
     },
     "execution_count": 156,
     "metadata": {},
     "output_type": "execute_result"
    }
   ],
   "source": [
    "# Check if there is any difference for HDB 4-room resale flats between mature and non-mature estates\n",
    "\n",
    "# Extract HDB 4-Room resale flats from HDB's records\n",
    "\n",
    "df38 = result[result['flat_type']=='4 ROOM']\n",
    "\n",
    "# Create a dataframe for mature estates\n",
    "mature = df38[df38['town'].isin(['ANG MO KIO', 'BEDOK', 'BISHAN', 'BUKIT MERAH', 'BUKIT TIMAH', 'CENTRAL AREA', 'CLEMENTI', 'GEYLANG', 'KALLANG/WHAMPOA', 'MARINE PARADE', 'PASIR RIS', 'QUEENSTOWN', 'SERANGOON', 'TAMPINES', 'TOA PAYOH'])]\n",
    "                     \n",
    "# Create a dataframe for non-mature estates    \n",
    "non_mature = df38[df38['town'].isin(['BUKIT BATOK', 'BUKIT PANJANG', 'CHOA CHU KANG', 'HOUGANG', 'JURONG EAST', 'JURONG WEST', 'PUNGGOL', 'SEMBAWANG', 'SENGKANG', 'WOOODLANDS', 'YISHUN'])]\n",
    "\n",
    "# Find out the median resale prices of 4-room flats in mature estates with less than 60 years' lease remaining\n",
    "\n",
    "mature1 = mature[mature['lease_commence_date']<=1980] # Extract 4-room flats with lease commence date from 1981 and before\n",
    "\n",
    "mature2 = mature1[['month',  'resale_price']]\n",
    "\n",
    "mature2.groupby('month').resale_price.median()\n",
    "\n",
    "# Find out the median resale prices of 4-room flats in non-mature estates with less than 60 years' lease remaining\n",
    "\n",
    "non_mature1 = mature[mature['lease_commence_date']>1980] # Extract 4-room flats with lease commence date from 1981 and before\n",
    "\n",
    "non_mature2 = non_mature1[['month',  'resale_price']]\n",
    "\n",
    "non_mature2.groupby('month').resale_price.median()\n"
   ]
  },
  {
   "cell_type": "code",
   "execution_count": 170,
   "metadata": {},
   "outputs": [
    {
     "data": {
      "image/png": "[encoded data removed]",
      "text/plain": [
       "<Figure size 432x288 with 1 Axes>"
      ]
     },
     "metadata": {
      "needs_background": "light"
     },
     "output_type": "display_data"
    },
    {
     "data": {
      "image/png": "[encoded data removed]",
      "text/plain": [
       "<Figure size 432x288 with 1 Axes>"
      ]
     },
     "metadata": {
      "needs_background": "light"
     },
     "output_type": "display_data"
    }
   ],
   "source": [
    "# Plot line graph to show the trend of 4-room resale flats in mature estates built in 1980 or earlier\n",
    "plt.plot(mature2.groupby('month').resale_price.median(), color='red')\n",
    "plt.title('resale_price in mature estates vs month', fontsize=14)\n",
    "plt.xlabel('month', fontsize=14)\n",
    "plt.ylabel('resale_price in mature estates', fontsize=14)\n",
    "plt.grid(True)\n",
    "plt.show()\n",
    "\n",
    "# Plot line graph to show the trend of 4-room resale flats in non-mature estates built in 1980 or earlier\n",
    "\n",
    "plt.plot(non_mature2.groupby('month').resale_price.median(), color='red')\n",
    "plt.title('resale_price in non-mature estates vs month', fontsize=14)\n",
    "plt.xlabel('month', fontsize=14)\n",
    "plt.ylabel('resale_price in non-mature estates', fontsize=14)\n",
    "plt.grid(True)\n",
    "plt.show()"
   ]
  },
  {
   "cell_type": "markdown",
   "metadata": {},
   "source": [
    "# The huge increase in resale prices in non-mature estates is greater than those in mature estates"
   ]
  },
  {
   "cell_type": "code",
   "execution_count": 171,
   "metadata": {},
   "outputs": [
    {
     "data": {
      "image/png": "[encoded data removed]",
      "text/plain": [
       "<Figure size 432x288 with 1 Axes>"
      ]
     },
     "metadata": {
      "needs_background": "light"
     },
     "output_type": "display_data"
    }
   ],
   "source": [
    "# Let's examine the trend of resale prices in Ang Mo Kio (mature estate) and Punggol (non-mature estate)\n",
    "\n",
    "ang_mo_kio = df38[df38['town']=='ANG MO KIO']\n",
    "\n",
    "ang_mo_kio2 = ang_mo_kio[['month',  'resale_price']]\n",
    "\n",
    "ang_mo_kio2.groupby('month').resale_price.median()\n",
    "\n",
    "punggol = df38[df38['town']=='PUNGGOL']\n",
    "\n",
    "punggol2 = punggol[['month',  'resale_price']]\n",
    "\n",
    "punggol2.groupby('month').resale_price.median()\n",
    "\n",
    "# Plot line graph to show the trend of resale prices in Ang Mo Kio (mature estate) and Punggol (non-mature estate)\n",
    "\n",
    "plt.plot(ang_mo_kio2.groupby('month').resale_price.median(), label= 'ang mo kio', color='red')\n",
    "plt.plot(punggol2.groupby('month').resale_price.median(), label= 'punggol', color='blue')\n",
    "plt.title('resale_price in mature and non-mature estates vs month', fontsize=14)\n",
    "plt.xlabel('month', fontsize=14)\n",
    "plt.ylabel('resale_price in mature and non-mature estates', fontsize=14)\n",
    "plt.grid(True)\n",
    "plt.legend(loc='upper left', frameon=False)\n",
    "plt.show()"
   ]
  },
  {
   "cell_type": "code",
   "execution_count": 159,
   "metadata": {},
   "outputs": [
    {
     "name": "stdout",
     "output_type": "stream",
     "text": [
      "390000.0\n",
      "507500.0\n"
     ]
    }
   ],
   "source": [
    "# Let's check the median resale prices of four-room flats in 2020 with less than 60 years' lease remaining in mature and non-mature estates\n",
    "\n",
    "# Mature estates\n",
    "\n",
    "df39=mature2.groupby('month').resale_price.median()\n",
    "\n",
    "df40=df39.tail(15)\n",
    "\n",
    "df41=df40.head(12)\n",
    "\n",
    "print(df41.median())\n",
    "\n",
    "# Non-mature estates\n",
    "\n",
    "df42=non_mature2.groupby('month').resale_price.median()\n",
    "\n",
    "df43=df42.tail(15)\n",
    "\n",
    "df44=df43.head(12)\n",
    "\n",
    "print(df44.median())\n"
   ]
  },
  {
   "cell_type": "markdown",
   "metadata": {},
   "source": [
    "# Let's find out the effect of new MRT lines on resale HDB flats\n",
    "\n",
    "Timeline of Downtown Line:\n",
    "\n",
    "2001 - Announcement of the development of three new MRT lines, two of which are part of today's Downtown Line - the Bukit Timah Line and northern part of the Eastern Region Line. \n",
    "\n",
    "2005 - LTA announced the Downtown Extension, serving the Marina Bay Area. \n",
    "\n",
    "2007 - Annoucement of the development of Downtown Line in three stages streching 40km with 33 stations. \n",
    "\n",
    "Stage 1: Stretching 4.3km started construction in January 2008 at Chinatown station. It began service on 22 December 2013.\n",
    "\n",
    "Stage 2: 16.6km long with 12 stations connecting Bukit Panjang and Rochor stations. Construction begain on 3 July 2009.\n",
    "\n",
    "Stage 3: Goes from Chinatown to Expo. Station locations and finalised route unveiled on 20 August 2010. It is 21km long and serve 16 stations. The route opened on 21 October 2017."
   ]
  },
  {
   "cell_type": "code",
   "execution_count": 172,
   "metadata": {},
   "outputs": [
    {
     "data": {
      "image/png": "[encoded data removed]",
      "text/plain": [
       "<Figure size 432x288 with 1 Axes>"
      ]
     },
     "metadata": {
      "needs_background": "light"
     },
     "output_type": "display_data"
    }
   ],
   "source": [
    "# Let's find out the trend of resale 4-room flat prices of Ubi and Kaki Bukit, from 1990 onwards\n",
    "\n",
    "# Get the dataset for resale 4-room flats in Ubi and Kaki Bukit from 1990 onwards\n",
    "\n",
    "# Ubi resale 4-room flats\n",
    "\n",
    "df45 = result[result['street_name']=='UBI AVE 1']\n",
    "\n",
    "ubi = df45[['month',  'resale_price']]\n",
    "\n",
    "ubi.groupby('month').resale_price.median()\n",
    "\n",
    "# Kaki Bukit resale 4-room flats\n",
    "\n",
    "df46 = result[result['street_name']=='JLN TENAGA']\n",
    "\n",
    "kaki_bukit = df45[['month',  'resale_price']]\n",
    "\n",
    "kaki_bukit.groupby('month').resale_price.median()\n",
    "\n",
    "# Plot line graph to show the trend of resale prices in Ubi and Kaki Bukit\n",
    "\n",
    "plt.plot(ubi.groupby('month').resale_price.median(), label= 'Ubi', color='red')\n",
    "\n",
    "plt.title('resale_price in ubi', fontsize=14)\n",
    "plt.xlabel('month', fontsize=14)\n",
    "plt.ylabel('resale flat prices', fontsize=14)\n",
    "plt.grid(True)\n",
    "plt.legend(loc='upper left', frameon=False)\n",
    "plt.show()"
   ]
  },
  {
   "cell_type": "code",
   "execution_count": 173,
   "metadata": {},
   "outputs": [
    {
     "data": {
      "image/png": "[encoded data removed]",
      "text/plain": [
       "<Figure size 432x288 with 1 Axes>"
      ]
     },
     "metadata": {
      "needs_background": "light"
     },
     "output_type": "display_data"
    }
   ],
   "source": [
    "plt.plot(kaki_bukit.groupby('month').resale_price.median(), label= 'Kaki Bukit', color='blue')\n",
    "\n",
    "plt.title('resale_price in kaki bukit', fontsize=14)\n",
    "plt.xlabel('month', fontsize=14)\n",
    "plt.ylabel('resale flat prices', fontsize=14)\n",
    "plt.grid(True)\n",
    "plt.legend(loc='upper left', frameon=False)\n",
    "plt.show()"
   ]
  },
  {
   "cell_type": "code",
   "execution_count": 174,
   "metadata": {},
   "outputs": [
    {
     "name": "stderr",
     "output_type": "stream",
     "text": [
      "C:\\Users\\anghe\\Anaconda3\\lib\\site-packages\\ipykernel_launcher.py:15: FutureWarning: Sorting because non-concatenation axis is not aligned. A future version\n",
      "of pandas will change to not sort by default.\n",
      "\n",
      "To accept the future behavior, pass 'sort=False'.\n",
      "\n",
      "To retain the current behavior and silence the warning, pass 'sort=True'.\n",
      "\n",
      "  from ipykernel import kernelapp as app\n"
     ]
    },
    {
     "data": {
      "image/png": "[encoded data removed]",
      "text/plain": [
       "<Figure size 432x288 with 1 Axes>"
      ]
     },
     "metadata": {
      "needs_background": "light"
     },
     "output_type": "display_data"
    }
   ],
   "source": [
    "# Let's find out the trend of resale 4-room flat prices of Ubi and Kaki Bukit, from 2000 onwards\n",
    "\n",
    "# Get the dataset for resale 4-room flats in Ubi and Kaki Bukit from 1990 onwards\n",
    "\n",
    "df18 = pd.read_csv('resale-flat-prices-based-on-approval-date-2000-feb-2012.csv')\n",
    "\n",
    "df19 = pd.read_csv('resale-flat-prices-based-on-registration-date-from-mar-2012-to-dec-2014.csv')\n",
    "\n",
    "df20 = pd.read_csv('resale-flat-prices-based-on-registration-date-from-jan-2015-to-dec-2016.csv')\n",
    "\n",
    "df60 = pd.read_csv('resale-flat-prices-based-on-registration-date-from-jan-2017-onwards.csv')\n",
    "\n",
    "frames1 = [df18, df19, df20, df60]\n",
    "\n",
    "result1 = pd.concat(frames)\n",
    "\n",
    "# Ubi resale 4-room flats\n",
    "\n",
    "df47 = result1[result1['street_name']=='UBI AVE 1']\n",
    "\n",
    "ubi1 = df47[['month',  'resale_price']]\n",
    "\n",
    "ubi1.groupby('month').resale_price.median()\n",
    "\n",
    "# Kaki Bukit resale 4-room flats\n",
    "\n",
    "df48 = result1[result1['street_name']=='JLN TENAGA']\n",
    "\n",
    "kaki_bukit1 = df48[['month',  'resale_price']]\n",
    "\n",
    "kaki_bukit1.groupby('month').resale_price.median()\n",
    "\n",
    "# Plot line graph to show the trend of resale prices in Ubi and Kaki Bukit\n",
    "\n",
    "plt.plot(ubi1.groupby('month').resale_price.median(), label= 'Ubi', color='red')\n",
    "\n",
    "plt.title('resale_price in ubi', fontsize=14)\n",
    "plt.xlabel('month', fontsize=14)\n",
    "plt.ylabel('resale flat prices', fontsize=14)\n",
    "plt.grid(True)\n",
    "plt.legend(loc='upper left', frameon=False)\n",
    "plt.show()"
   ]
  },
  {
   "cell_type": "code",
   "execution_count": 175,
   "metadata": {},
   "outputs": [
    {
     "data": {
      "image/png": "[encoded data removed]",
      "text/plain": [
       "<Figure size 432x288 with 1 Axes>"
      ]
     },
     "metadata": {
      "needs_background": "light"
     },
     "output_type": "display_data"
    }
   ],
   "source": [
    "plt.plot(kaki_bukit1.groupby('month').resale_price.median(), label= 'Kaki Bukit', color='blue')\n",
    "\n",
    "plt.title('resale_price in kaki bukit', fontsize=14)\n",
    "plt.xlabel('month', fontsize=14)\n",
    "plt.ylabel('resale flat prices', fontsize=14)\n",
    "plt.grid(True)\n",
    "plt.legend(loc='upper left', frameon=False)\n",
    "plt.show()"
   ]
  },
  {
   "cell_type": "code",
   "execution_count": 164,
   "metadata": {},
   "outputs": [
    {
     "data": {
      "image/png": "[encoded data removed]",
      "text/plain": [
       "<Figure size 432x288 with 1 Axes>"
      ]
     },
     "metadata": {
      "needs_background": "light"
     },
     "output_type": "display_data"
    }
   ],
   "source": [
    "# Let's find out the trend of resale 4-room flat prices of Ubi and Kaki Bukit, from 2017 onwards\n",
    "\n",
    "# Get the dataset for resale 4-room flats in Ubi and Kaki Bukit from 2017 onwards\n",
    "\n",
    "df60 = pd.read_csv('resale-flat-prices-based-on-registration-date-from-jan-2017-onwards.csv')\n",
    "\n",
    "# Ubi resale 4-room flats\n",
    "\n",
    "df61 = df60[df60['street_name']=='UBI AVE 1']\n",
    "\n",
    "ubi2 = df61[['month',  'resale_price']]\n",
    "\n",
    "ubi2.groupby('month').resale_price.median()\n",
    "\n",
    "# Kaki Bukit resale 4-room flats\n",
    "\n",
    "df62 = df60[df60['street_name']=='JLN TENAGA']\n",
    "\n",
    "kaki_bukit2 = df62[['month',  'resale_price']]\n",
    "\n",
    "kaki_bukit2.groupby('month').resale_price.median()\n",
    "\n",
    "# Plot line graph to show the trend of resale prices in Ubi and Kaki Bukit\n",
    "\n",
    "plt.plot(ubi2.groupby('month').resale_price.median(), label= 'Ubi', color='red')\n",
    "plt.title('resale_price in ubi', fontsize=14)\n",
    "plt.xlabel('month', fontsize=14)\n",
    "plt.ylabel('resale flat prices', fontsize=14)\n",
    "plt.xticks(rotation=90)\n",
    "plt.grid(True)\n",
    "plt.legend(loc='upper left', frameon=False)\n",
    "plt.show()"
   ]
  },
  {
   "cell_type": "code",
   "execution_count": 165,
   "metadata": {},
   "outputs": [
    {
     "data": {
      "image/png": "[encoded data removed]",
      "text/plain": [
       "<Figure size 432x288 with 1 Axes>"
      ]
     },
     "metadata": {
      "needs_background": "light"
     },
     "output_type": "display_data"
    }
   ],
   "source": [
    "plt.plot(kaki_bukit2.groupby('month').resale_price.median(), label= 'Kaki Bukit', color='blue')\n",
    "\n",
    "plt.title('resale_price in kaki bukit', fontsize=14)\n",
    "plt.xlabel('month', fontsize=14)\n",
    "plt.ylabel('resale flat prices', fontsize=14)\n",
    "plt.xticks(rotation=90)\n",
    "plt.grid(True)\n",
    "plt.legend(loc='upper left', frameon=False)\n",
    "plt.show()"
   ]
  },
  {
   "cell_type": "code",
   "execution_count": null,
   "metadata": {},
   "outputs": [],
   "source": []
  }
 ],
 "metadata": {
  "kernelspec": {
   "display_name": "Python 3",
   "language": "python",
   "name": "python3"
  },
  "language_info": {
   "codemirror_mode": {
    "name": "ipython",
    "version": 3
   },
   "file_extension": ".py",
   "mimetype": "text/x-python",
   "name": "python",
   "nbconvert_exporter": "python",
   "pygments_lexer": "ipython3",
   "version": "3.7.4"
  }
 },
 "nbformat": 4,
 "nbformat_minor": 2
}
